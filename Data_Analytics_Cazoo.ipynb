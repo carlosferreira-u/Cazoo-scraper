{
 "cells": [
  {
   "cell_type": "code",
   "execution_count": null,
   "id": "9d63f3da",
   "metadata": {},
   "outputs": [],
   "source": [
    "!pip3 install selenium\n",
    "!pip3 install webdriver-manager\n",
    "!pip3 install requests\n",
    "!pip3 install matplotlib\n",
    "!pip3 install numpy\n",
    "!pip3 install pandas"
   ]
  },
  {
   "cell_type": "code",
   "execution_count": 227,
   "id": "e72633a5",
   "metadata": {},
   "outputs": [],
   "source": [
    "# Import libraries\n",
    "import calendar\n",
    "import time\n",
    "import requests\n",
    "import pandas as pd\n",
    "import numpy as np\n",
    "import matplotlib.pyplot as plt\n",
    "from bs4 import BeautifulSoup\n",
    "from selenium import webdriver\n",
    "from selenium.webdriver.common.by import By"
   ]
  },
  {
   "cell_type": "code",
   "execution_count": 228,
   "id": "deaeb8da",
   "metadata": {},
   "outputs": [],
   "source": [
    "# Define base url\n",
    "base_url = \"https://www.cazoo.co.uk\""
   ]
  },
  {
   "cell_type": "code",
   "execution_count": 229,
   "id": "d97f28df",
   "metadata": {},
   "outputs": [],
   "source": [
    "# Create Pandas Dataframe\n",
    "vehicle_df = pd.DataFrame(columns=['Make', 'Model', 'Price (£)', 'Mileage', 'Registration Year', 'Registration Month', 'Gearbox', 'Fuel Type', 'N of Owners'])"
   ]
  },
  {
   "cell_type": "code",
   "execution_count": 230,
   "id": "aad73c31",
   "metadata": {},
   "outputs": [
    {
     "name": "stdout",
     "output_type": "stream",
     "text": [
      "Response code:  200\n"
     ]
    }
   ],
   "source": [
    "# Get response code\n",
    "response = requests.get(base_url)\n",
    "print(\"Response code: \", response.status_code)"
   ]
  },
  {
   "cell_type": "code",
   "execution_count": 231,
   "id": "65aa3284",
   "metadata": {},
   "outputs": [],
   "source": [
    "# Create counters\n",
    "page_no = 1\n",
    "listings_per_page = 47\n",
    "listings_on_last_page = 17 # (at the time of writing the code)\n",
    "last_page = 155 # (at the time of writing the code)"
   ]
  },
  {
   "cell_type": "code",
   "execution_count": null,
   "id": "a3eacd63",
   "metadata": {},
   "outputs": [],
   "source": [
    "# Loop for pages\n",
    "for page in range(last_page + 1):\n",
    "\n",
    "    # Define url\n",
    "    page_no = page\n",
    "    listings_url = f\"https://www.cazoo.co.uk/cars/?page={page_no}\"\n",
    "\n",
    "    # Get page url and parse it\n",
    "    response = requests.get(listings_url)\n",
    "    soup = BeautifulSoup(response.text, features=\"html.parser\")\n",
    "    \n",
    "    # Find listings\n",
    "    listings = soup.find_all(class_='vehicle-cardstyles__InfoWrap-sc-1bxv5iu-2 laxUtI')\n",
    "\n",
    "    # Listing counters\n",
    "    listing_count = 1\n",
    "\n",
    "    # Print status\n",
    "    print(f\"Scraping from page {page_no}...\")\n",
    "\n",
    "    # Get a tags (urls) for each listing\n",
    "    for listing in listings:\n",
    "\n",
    "        # Print listing number\n",
    "        print(f\"listing {listing_count}...\")\n",
    "\n",
    "        # Find 'a' tags containing the URLs to each listing\n",
    "        a_tags = listing.find_all('a')\n",
    "\n",
    "        # In each url scrape the data\n",
    "        for car_url in a_tags:\n",
    "\n",
    "            # Parse html\n",
    "            response = requests.get(base_url + car_url['href'])\n",
    "            soup = BeautifulSoup(response.content, features='html.parser')\n",
    "\n",
    "            # Get make and model\n",
    "            try:\n",
    "                make_model = soup.find('h1', class_='sc-yrk414-0 Abyeg').text.strip()\n",
    "                make, model = make_model.split(' ', 1)\n",
    "            except:\n",
    "                make, model = \"n/a\"\n",
    "\n",
    "            # Get price\n",
    "            try:\n",
    "                driver = webdriver.Chrome()\n",
    "                driver.get(base_url + car_url['href'])\n",
    "                time.sleep(1)\n",
    "                price = driver.find_element(By.CSS_SELECTOR, \"div.md\\:px-l:nth-child(3) > p:nth-child(1) > small:nth-child(1) > small:nth-child(2) > strong:nth-child(1)\").text\n",
    "                price = int(price[1:].replace(',', ''))\n",
    "            except:\n",
    "                price = \"n/a\"\n",
    "\n",
    "            # Get mileage\n",
    "            try:\n",
    "                mileage = int(soup.find_all('li', class_=\"sc-1qzxxja-0 sc-17oqk9n-0 cMysQa etVBLA\")[0].text.strip().replace(' miles','').replace(',',''))\n",
    "            except:\n",
    "                mileage = \"n/a\"\n",
    "\n",
    "            # Get registration year\n",
    "            try:\n",
    "                reg_year = soup.find_all('li', class_=\"sc-1qzxxja-0 sc-17oqk9n-0 cMysQa etVBLA\")[1].text.strip()\n",
    "                reg_year = int(reg_year[-4:])\n",
    "            except:\n",
    "                reg_year = \"n/a\"\n",
    "\n",
    "            # Get registration month\n",
    "            try:\n",
    "                reg_month = soup.find_all('li', class_=\"sc-1qzxxja-0 sc-17oqk9n-0 cMysQa etVBLA\")[1].text.strip()\n",
    "                reg_month = reg_month[:3]\n",
    "                reg_month = int(list(calendar.month_abbr).index(reg_month))\n",
    "            except:\n",
    "                reg_month = \"n/a\"\n",
    "\n",
    "            # Get gearbox\n",
    "            try:\n",
    "                gearbox = soup.find_all('li', class_=\"sc-1qzxxja-0 sc-17oqk9n-0 cMysQa etVBLA\")[2].text.strip()\n",
    "            except:\n",
    "                gearbox = \"n/a\"\n",
    "\n",
    "            # Get fuel type\n",
    "            try:\n",
    "                fuel_type = soup.find_all('li', class_=\"sc-1qzxxja-0 sc-17oqk9n-0 cMysQa etVBLA\")[3].text.strip()\n",
    "            except:\n",
    "                fuel_type = \"n/a\"\n",
    "\n",
    "            # Get number of owners\n",
    "            try:\n",
    "                number_of_owners = soup.select(\"dl.divide-y:nth-child(2) > div:nth-child(3) > dd:nth-child(2)\")[0]\n",
    "                number_of_owners = int(number_of_owners.text)\n",
    "            except:\n",
    "                number_of_owners = \"n/a\"\n",
    "\n",
    "            # Create row\n",
    "            row = pd.Series({'Make': make,\n",
    "                             'Model': model,\n",
    "                             'Price (£)': price,\n",
    "                             'Mileage': mileage,\n",
    "                             'Registration Year': reg_year,\n",
    "                             'Registration Month': reg_month,\n",
    "                             'Gearbox': gearbox,\n",
    "                             'Fuel Type': fuel_type,\n",
    "                             'N of Owners': number_of_owners\n",
    "                            })\n",
    "\n",
    "            # Add row to pandas data frame\n",
    "            vehicle_df.loc[len(vehicle_df)] = row\n",
    "        \n",
    "        # There are 47 listings per page. Break inner loop when listing 47 is reached\n",
    "        listing_count += 1\n",
    "        if page != last_page:\n",
    "            if listing_count > listings_per_page:\n",
    "                break\n",
    "        else:\n",
    "            if listing_count > listings_on_last_page:\n",
    "                break\n",
    "\n",
    "    # Go to next page\n",
    "    page_no += 1"
   ]
  },
  {
   "cell_type": "code",
   "execution_count": null,
   "id": "88a0c1bc",
   "metadata": {},
   "outputs": [],
   "source": [
    "# Save to csv\n",
    "vehicle_df.to_csv(\"cazoo_used_cars_dataset.csv\")"
   ]
  },
  {
   "cell_type": "code",
   "execution_count": 234,
   "id": "71e45798",
   "metadata": {},
   "outputs": [
    {
     "data": {
      "text/html": [
       "<div>\n",
       "<style scoped>\n",
       "    .dataframe tbody tr th:only-of-type {\n",
       "        vertical-align: middle;\n",
       "    }\n",
       "\n",
       "    .dataframe tbody tr th {\n",
       "        vertical-align: top;\n",
       "    }\n",
       "\n",
       "    .dataframe thead th {\n",
       "        text-align: right;\n",
       "    }\n",
       "</style>\n",
       "<table border=\"1\" class=\"dataframe\">\n",
       "  <thead>\n",
       "    <tr style=\"text-align: right;\">\n",
       "      <th></th>\n",
       "      <th>Unnamed: 0</th>\n",
       "      <th>Make</th>\n",
       "      <th>Model</th>\n",
       "      <th>Price (£)</th>\n",
       "      <th>Milage</th>\n",
       "      <th>Registration Year</th>\n",
       "      <th>Registration Month</th>\n",
       "      <th>Gearbox</th>\n",
       "      <th>Fuel Type</th>\n",
       "      <th>N of Owners</th>\n",
       "    </tr>\n",
       "  </thead>\n",
       "  <tbody>\n",
       "    <tr>\n",
       "      <th>0</th>\n",
       "      <td>0</td>\n",
       "      <td>Ford</td>\n",
       "      <td>Ka</td>\n",
       "      <td>6350.0</td>\n",
       "      <td>56530.0</td>\n",
       "      <td>2016.0</td>\n",
       "      <td>4.0</td>\n",
       "      <td>Manual</td>\n",
       "      <td>Petrol</td>\n",
       "      <td>3.0</td>\n",
       "    </tr>\n",
       "    <tr>\n",
       "      <th>1</th>\n",
       "      <td>1</td>\n",
       "      <td>Citroen</td>\n",
       "      <td>C4</td>\n",
       "      <td>6750.0</td>\n",
       "      <td>50727.0</td>\n",
       "      <td>2015.0</td>\n",
       "      <td>9.0</td>\n",
       "      <td>Manual</td>\n",
       "      <td>Petrol</td>\n",
       "      <td>1.0</td>\n",
       "    </tr>\n",
       "    <tr>\n",
       "      <th>2</th>\n",
       "      <td>2</td>\n",
       "      <td>Suzuki</td>\n",
       "      <td>Celerio</td>\n",
       "      <td>6800.0</td>\n",
       "      <td>23190.0</td>\n",
       "      <td>2017.0</td>\n",
       "      <td>3.0</td>\n",
       "      <td>Manual</td>\n",
       "      <td>Petrol</td>\n",
       "      <td>3.0</td>\n",
       "    </tr>\n",
       "    <tr>\n",
       "      <th>3</th>\n",
       "      <td>3</td>\n",
       "      <td>Dacia</td>\n",
       "      <td>Sandero</td>\n",
       "      <td>NaN</td>\n",
       "      <td>10837.0</td>\n",
       "      <td>2016.0</td>\n",
       "      <td>5.0</td>\n",
       "      <td>Manual</td>\n",
       "      <td>Petrol</td>\n",
       "      <td>1.0</td>\n",
       "    </tr>\n",
       "    <tr>\n",
       "      <th>4</th>\n",
       "      <td>4</td>\n",
       "      <td>Suzuki</td>\n",
       "      <td>Celerio</td>\n",
       "      <td>7000.0</td>\n",
       "      <td>23778.0</td>\n",
       "      <td>2016.0</td>\n",
       "      <td>3.0</td>\n",
       "      <td>Manual</td>\n",
       "      <td>Petrol</td>\n",
       "      <td>1.0</td>\n",
       "    </tr>\n",
       "    <tr>\n",
       "      <th>...</th>\n",
       "      <td>...</td>\n",
       "      <td>...</td>\n",
       "      <td>...</td>\n",
       "      <td>...</td>\n",
       "      <td>...</td>\n",
       "      <td>...</td>\n",
       "      <td>...</td>\n",
       "      <td>...</td>\n",
       "      <td>...</td>\n",
       "      <td>...</td>\n",
       "    </tr>\n",
       "    <tr>\n",
       "      <th>7201</th>\n",
       "      <td>7201</td>\n",
       "      <td>Jaguar</td>\n",
       "      <td>I-PACE</td>\n",
       "      <td>57000.0</td>\n",
       "      <td>23347.0</td>\n",
       "      <td>2020.0</td>\n",
       "      <td>12.0</td>\n",
       "      <td>Automatic</td>\n",
       "      <td>Electric</td>\n",
       "      <td>NaN</td>\n",
       "    </tr>\n",
       "    <tr>\n",
       "      <th>7202</th>\n",
       "      <td>7202</td>\n",
       "      <td>BMW</td>\n",
       "      <td>X5</td>\n",
       "      <td>60550.0</td>\n",
       "      <td>34423.0</td>\n",
       "      <td>2020.0</td>\n",
       "      <td>11.0</td>\n",
       "      <td>Automatic</td>\n",
       "      <td>Hybrid</td>\n",
       "      <td>NaN</td>\n",
       "    </tr>\n",
       "    <tr>\n",
       "      <th>7203</th>\n",
       "      <td>7203</td>\n",
       "      <td>Audi</td>\n",
       "      <td>e-tron</td>\n",
       "      <td>61100.0</td>\n",
       "      <td>3015.0</td>\n",
       "      <td>2022.0</td>\n",
       "      <td>6.0</td>\n",
       "      <td>Automatic</td>\n",
       "      <td>Electric</td>\n",
       "      <td>NaN</td>\n",
       "    </tr>\n",
       "    <tr>\n",
       "      <th>7204</th>\n",
       "      <td>7204</td>\n",
       "      <td>Jaguar</td>\n",
       "      <td>I-PACE</td>\n",
       "      <td>64200.0</td>\n",
       "      <td>11123.0</td>\n",
       "      <td>2022.0</td>\n",
       "      <td>4.0</td>\n",
       "      <td>Automatic</td>\n",
       "      <td>Electric</td>\n",
       "      <td>NaN</td>\n",
       "    </tr>\n",
       "    <tr>\n",
       "      <th>7205</th>\n",
       "      <td>7205</td>\n",
       "      <td>Porsche</td>\n",
       "      <td>Taycan</td>\n",
       "      <td>101200.0</td>\n",
       "      <td>9387.0</td>\n",
       "      <td>2021.0</td>\n",
       "      <td>12.0</td>\n",
       "      <td>Automatic</td>\n",
       "      <td>Electric</td>\n",
       "      <td>NaN</td>\n",
       "    </tr>\n",
       "  </tbody>\n",
       "</table>\n",
       "<p>7206 rows × 10 columns</p>\n",
       "</div>"
      ],
      "text/plain": [
       "      Unnamed: 0     Make    Model  Price (£)   Milage  Registration Year  \\\n",
       "0              0     Ford       Ka     6350.0  56530.0             2016.0   \n",
       "1              1  Citroen       C4     6750.0  50727.0             2015.0   \n",
       "2              2   Suzuki  Celerio     6800.0  23190.0             2017.0   \n",
       "3              3    Dacia  Sandero        NaN  10837.0             2016.0   \n",
       "4              4   Suzuki  Celerio     7000.0  23778.0             2016.0   \n",
       "...          ...      ...      ...        ...      ...                ...   \n",
       "7201        7201   Jaguar   I-PACE    57000.0  23347.0             2020.0   \n",
       "7202        7202      BMW       X5    60550.0  34423.0             2020.0   \n",
       "7203        7203     Audi   e-tron    61100.0   3015.0             2022.0   \n",
       "7204        7204   Jaguar   I-PACE    64200.0  11123.0             2022.0   \n",
       "7205        7205  Porsche   Taycan   101200.0   9387.0             2021.0   \n",
       "\n",
       "      Registration Month    Gearbox Fuel Type  N of Owners  \n",
       "0                    4.0     Manual    Petrol          3.0  \n",
       "1                    9.0     Manual    Petrol          1.0  \n",
       "2                    3.0     Manual    Petrol          3.0  \n",
       "3                    5.0     Manual    Petrol          1.0  \n",
       "4                    3.0     Manual    Petrol          1.0  \n",
       "...                  ...        ...       ...          ...  \n",
       "7201                12.0  Automatic  Electric          NaN  \n",
       "7202                11.0  Automatic    Hybrid          NaN  \n",
       "7203                 6.0  Automatic  Electric          NaN  \n",
       "7204                 4.0  Automatic  Electric          NaN  \n",
       "7205                12.0  Automatic  Electric          NaN  \n",
       "\n",
       "[7206 rows x 10 columns]"
      ]
     },
     "execution_count": 234,
     "metadata": {},
     "output_type": "execute_result"
    }
   ],
   "source": [
    "# Read dataset\n",
    "vehicle_df = pd.read_csv(\"cazoo_used_cars_dataset.csv\")\n",
    "vehicle_df"
   ]
  },
  {
   "cell_type": "code",
   "execution_count": 235,
   "id": "61eb68f6",
   "metadata": {},
   "outputs": [
    {
     "data": {
      "text/html": [
       "<div>\n",
       "<style scoped>\n",
       "    .dataframe tbody tr th:only-of-type {\n",
       "        vertical-align: middle;\n",
       "    }\n",
       "\n",
       "    .dataframe tbody tr th {\n",
       "        vertical-align: top;\n",
       "    }\n",
       "\n",
       "    .dataframe thead th {\n",
       "        text-align: right;\n",
       "    }\n",
       "</style>\n",
       "<table border=\"1\" class=\"dataframe\">\n",
       "  <thead>\n",
       "    <tr style=\"text-align: right;\">\n",
       "      <th></th>\n",
       "      <th>Make</th>\n",
       "      <th>Model</th>\n",
       "      <th>Price (£)</th>\n",
       "      <th>Milage</th>\n",
       "      <th>Registration Year</th>\n",
       "      <th>Registration Month</th>\n",
       "      <th>Gearbox</th>\n",
       "      <th>Fuel Type</th>\n",
       "      <th>N of Owners</th>\n",
       "    </tr>\n",
       "  </thead>\n",
       "  <tbody>\n",
       "    <tr>\n",
       "      <th>0</th>\n",
       "      <td>Ford</td>\n",
       "      <td>Ka</td>\n",
       "      <td>6350.0</td>\n",
       "      <td>56530</td>\n",
       "      <td>2016</td>\n",
       "      <td>4</td>\n",
       "      <td>Manual</td>\n",
       "      <td>Petrol</td>\n",
       "      <td>3</td>\n",
       "    </tr>\n",
       "    <tr>\n",
       "      <th>1</th>\n",
       "      <td>Citroen</td>\n",
       "      <td>C4</td>\n",
       "      <td>6750.0</td>\n",
       "      <td>50727</td>\n",
       "      <td>2015</td>\n",
       "      <td>9</td>\n",
       "      <td>Manual</td>\n",
       "      <td>Petrol</td>\n",
       "      <td>1</td>\n",
       "    </tr>\n",
       "    <tr>\n",
       "      <th>2</th>\n",
       "      <td>Suzuki</td>\n",
       "      <td>Celerio</td>\n",
       "      <td>6800.0</td>\n",
       "      <td>23190</td>\n",
       "      <td>2017</td>\n",
       "      <td>3</td>\n",
       "      <td>Manual</td>\n",
       "      <td>Petrol</td>\n",
       "      <td>3</td>\n",
       "    </tr>\n",
       "    <tr>\n",
       "      <th>4</th>\n",
       "      <td>Suzuki</td>\n",
       "      <td>Celerio</td>\n",
       "      <td>7000.0</td>\n",
       "      <td>23778</td>\n",
       "      <td>2016</td>\n",
       "      <td>3</td>\n",
       "      <td>Manual</td>\n",
       "      <td>Petrol</td>\n",
       "      <td>1</td>\n",
       "    </tr>\n",
       "    <tr>\n",
       "      <th>5</th>\n",
       "      <td>Fiat</td>\n",
       "      <td>500</td>\n",
       "      <td>7000.0</td>\n",
       "      <td>41216</td>\n",
       "      <td>2015</td>\n",
       "      <td>9</td>\n",
       "      <td>Manual</td>\n",
       "      <td>Petrol</td>\n",
       "      <td>3</td>\n",
       "    </tr>\n",
       "    <tr>\n",
       "      <th>...</th>\n",
       "      <td>...</td>\n",
       "      <td>...</td>\n",
       "      <td>...</td>\n",
       "      <td>...</td>\n",
       "      <td>...</td>\n",
       "      <td>...</td>\n",
       "      <td>...</td>\n",
       "      <td>...</td>\n",
       "      <td>...</td>\n",
       "    </tr>\n",
       "    <tr>\n",
       "      <th>7194</th>\n",
       "      <td>Land</td>\n",
       "      <td>Rover Range Rover Sport</td>\n",
       "      <td>49550.0</td>\n",
       "      <td>60414</td>\n",
       "      <td>2017</td>\n",
       "      <td>12</td>\n",
       "      <td>Automatic</td>\n",
       "      <td>Petrol</td>\n",
       "      <td>2</td>\n",
       "    </tr>\n",
       "    <tr>\n",
       "      <th>7195</th>\n",
       "      <td>Porsche</td>\n",
       "      <td>Macan</td>\n",
       "      <td>50300.0</td>\n",
       "      <td>15658</td>\n",
       "      <td>2019</td>\n",
       "      <td>9</td>\n",
       "      <td>Automatic</td>\n",
       "      <td>Petrol</td>\n",
       "      <td>1</td>\n",
       "    </tr>\n",
       "    <tr>\n",
       "      <th>7196</th>\n",
       "      <td>Land</td>\n",
       "      <td>Rover Range Rover Sport</td>\n",
       "      <td>50850.0</td>\n",
       "      <td>20793</td>\n",
       "      <td>2017</td>\n",
       "      <td>12</td>\n",
       "      <td>Automatic</td>\n",
       "      <td>Diesel</td>\n",
       "      <td>2</td>\n",
       "    </tr>\n",
       "    <tr>\n",
       "      <th>7197</th>\n",
       "      <td>Land</td>\n",
       "      <td>Rover Range Rover</td>\n",
       "      <td>52200.0</td>\n",
       "      <td>19614</td>\n",
       "      <td>2017</td>\n",
       "      <td>11</td>\n",
       "      <td>Automatic</td>\n",
       "      <td>Diesel</td>\n",
       "      <td>4</td>\n",
       "    </tr>\n",
       "    <tr>\n",
       "      <th>7198</th>\n",
       "      <td>Porsche</td>\n",
       "      <td>Macan</td>\n",
       "      <td>54150.0</td>\n",
       "      <td>4754</td>\n",
       "      <td>2020</td>\n",
       "      <td>12</td>\n",
       "      <td>Automatic</td>\n",
       "      <td>Petrol</td>\n",
       "      <td>2</td>\n",
       "    </tr>\n",
       "  </tbody>\n",
       "</table>\n",
       "<p>6229 rows × 9 columns</p>\n",
       "</div>"
      ],
      "text/plain": [
       "         Make                    Model  Price (£)  Milage  Registration Year  \\\n",
       "0        Ford                       Ka     6350.0   56530               2016   \n",
       "1     Citroen                       C4     6750.0   50727               2015   \n",
       "2      Suzuki                  Celerio     6800.0   23190               2017   \n",
       "4      Suzuki                  Celerio     7000.0   23778               2016   \n",
       "5        Fiat                      500     7000.0   41216               2015   \n",
       "...       ...                      ...        ...     ...                ...   \n",
       "7194     Land  Rover Range Rover Sport    49550.0   60414               2017   \n",
       "7195  Porsche                    Macan    50300.0   15658               2019   \n",
       "7196     Land  Rover Range Rover Sport    50850.0   20793               2017   \n",
       "7197     Land        Rover Range Rover    52200.0   19614               2017   \n",
       "7198  Porsche                    Macan    54150.0    4754               2020   \n",
       "\n",
       "      Registration Month    Gearbox Fuel Type  N of Owners  \n",
       "0                      4     Manual    Petrol            3  \n",
       "1                      9     Manual    Petrol            1  \n",
       "2                      3     Manual    Petrol            3  \n",
       "4                      3     Manual    Petrol            1  \n",
       "5                      9     Manual    Petrol            3  \n",
       "...                  ...        ...       ...          ...  \n",
       "7194                  12  Automatic    Petrol            2  \n",
       "7195                   9  Automatic    Petrol            1  \n",
       "7196                  12  Automatic    Diesel            2  \n",
       "7197                  11  Automatic    Diesel            4  \n",
       "7198                  12  Automatic    Petrol            2  \n",
       "\n",
       "[6229 rows x 9 columns]"
      ]
     },
     "execution_count": 235,
     "metadata": {},
     "output_type": "execute_result"
    }
   ],
   "source": [
    "# Drop rows with 'n/a' & convert to integers\n",
    "vehicle_df.dropna(inplace=True)\n",
    "vehicle_df.drop(columns=[\"Unnamed: 0\"], inplace=True)\n",
    "columns_to_integers = ['Milage', 'Registration Year', 'Registration Month', 'N of Owners']\n",
    "vehicle_df[columns_to_integers] = vehicle_df[columns_to_integers].astype(int)\n",
    "vehicle_df"
   ]
  },
  {
   "cell_type": "code",
   "execution_count": 236,
   "id": "fdc94dc8",
   "metadata": {},
   "outputs": [
    {
     "name": "stdout",
     "output_type": "stream",
     "text": [
      "<class 'pandas.core.frame.DataFrame'>\n",
      "Int64Index: 6229 entries, 0 to 7198\n",
      "Data columns (total 9 columns):\n",
      " #   Column              Non-Null Count  Dtype  \n",
      "---  ------              --------------  -----  \n",
      " 0   Make                6229 non-null   object \n",
      " 1   Model               6229 non-null   object \n",
      " 2   Price (£)           6229 non-null   float64\n",
      " 3   Milage              6229 non-null   int64  \n",
      " 4   Registration Year   6229 non-null   int64  \n",
      " 5   Registration Month  6229 non-null   int64  \n",
      " 6   Gearbox             6229 non-null   object \n",
      " 7   Fuel Type           6229 non-null   object \n",
      " 8   N of Owners         6229 non-null   int64  \n",
      "dtypes: float64(1), int64(4), object(4)\n",
      "memory usage: 486.6+ KB\n"
     ]
    }
   ],
   "source": [
    "# Data Frame information\n",
    "vehicle_df.info()"
   ]
  },
  {
   "cell_type": "code",
   "execution_count": 237,
   "id": "e26cf705",
   "metadata": {},
   "outputs": [
    {
     "data": {
      "text/html": [
       "<div>\n",
       "<style scoped>\n",
       "    .dataframe tbody tr th:only-of-type {\n",
       "        vertical-align: middle;\n",
       "    }\n",
       "\n",
       "    .dataframe tbody tr th {\n",
       "        vertical-align: top;\n",
       "    }\n",
       "\n",
       "    .dataframe thead th {\n",
       "        text-align: right;\n",
       "    }\n",
       "</style>\n",
       "<table border=\"1\" class=\"dataframe\">\n",
       "  <thead>\n",
       "    <tr style=\"text-align: right;\">\n",
       "      <th></th>\n",
       "      <th>Price (£)</th>\n",
       "      <th>Milage</th>\n",
       "      <th>Registration Year</th>\n",
       "      <th>Registration Month</th>\n",
       "      <th>N of Owners</th>\n",
       "    </tr>\n",
       "  </thead>\n",
       "  <tbody>\n",
       "    <tr>\n",
       "      <th>count</th>\n",
       "      <td>6229.000000</td>\n",
       "      <td>6229.000000</td>\n",
       "      <td>6229.000000</td>\n",
       "      <td>6229.000000</td>\n",
       "      <td>6229.000000</td>\n",
       "    </tr>\n",
       "    <tr>\n",
       "      <th>mean</th>\n",
       "      <td>17388.047841</td>\n",
       "      <td>28514.424145</td>\n",
       "      <td>2018.411784</td>\n",
       "      <td>6.608605</td>\n",
       "      <td>1.692085</td>\n",
       "    </tr>\n",
       "    <tr>\n",
       "      <th>std</th>\n",
       "      <td>5661.080674</td>\n",
       "      <td>16134.825504</td>\n",
       "      <td>1.416753</td>\n",
       "      <td>3.342035</td>\n",
       "      <td>0.872529</td>\n",
       "    </tr>\n",
       "    <tr>\n",
       "      <th>min</th>\n",
       "      <td>6350.000000</td>\n",
       "      <td>2.000000</td>\n",
       "      <td>2014.000000</td>\n",
       "      <td>1.000000</td>\n",
       "      <td>1.000000</td>\n",
       "    </tr>\n",
       "    <tr>\n",
       "      <th>25%</th>\n",
       "      <td>13150.000000</td>\n",
       "      <td>16325.000000</td>\n",
       "      <td>2018.000000</td>\n",
       "      <td>3.000000</td>\n",
       "      <td>1.000000</td>\n",
       "    </tr>\n",
       "    <tr>\n",
       "      <th>50%</th>\n",
       "      <td>16350.000000</td>\n",
       "      <td>26390.000000</td>\n",
       "      <td>2019.000000</td>\n",
       "      <td>6.000000</td>\n",
       "      <td>1.000000</td>\n",
       "    </tr>\n",
       "    <tr>\n",
       "      <th>75%</th>\n",
       "      <td>20900.000000</td>\n",
       "      <td>38179.000000</td>\n",
       "      <td>2019.000000</td>\n",
       "      <td>9.000000</td>\n",
       "      <td>2.000000</td>\n",
       "    </tr>\n",
       "    <tr>\n",
       "      <th>max</th>\n",
       "      <td>54150.000000</td>\n",
       "      <td>98705.000000</td>\n",
       "      <td>2022.000000</td>\n",
       "      <td>12.000000</td>\n",
       "      <td>8.000000</td>\n",
       "    </tr>\n",
       "  </tbody>\n",
       "</table>\n",
       "</div>"
      ],
      "text/plain": [
       "          Price (£)        Milage  Registration Year  Registration Month  \\\n",
       "count   6229.000000   6229.000000        6229.000000         6229.000000   \n",
       "mean   17388.047841  28514.424145        2018.411784            6.608605   \n",
       "std     5661.080674  16134.825504           1.416753            3.342035   \n",
       "min     6350.000000      2.000000        2014.000000            1.000000   \n",
       "25%    13150.000000  16325.000000        2018.000000            3.000000   \n",
       "50%    16350.000000  26390.000000        2019.000000            6.000000   \n",
       "75%    20900.000000  38179.000000        2019.000000            9.000000   \n",
       "max    54150.000000  98705.000000        2022.000000           12.000000   \n",
       "\n",
       "       N of Owners  \n",
       "count  6229.000000  \n",
       "mean      1.692085  \n",
       "std       0.872529  \n",
       "min       1.000000  \n",
       "25%       1.000000  \n",
       "50%       1.000000  \n",
       "75%       2.000000  \n",
       "max       8.000000  "
      ]
     },
     "execution_count": 237,
     "metadata": {},
     "output_type": "execute_result"
    }
   ],
   "source": [
    "# Data Frame overview\n",
    "vehicle_df.describe()"
   ]
  },
  {
   "cell_type": "code",
   "execution_count": 238,
   "id": "3cb20202",
   "metadata": {},
   "outputs": [
    {
     "data": {
      "text/plain": [
       "2022     122\n",
       "2021     287\n",
       "2020     661\n",
       "2019    2177\n",
       "2018    1517\n",
       "2017     783\n",
       "2016     551\n",
       "2015     126\n",
       "2014       5\n",
       "Name: Registration Year, dtype: int64"
      ]
     },
     "execution_count": 238,
     "metadata": {},
     "output_type": "execute_result"
    }
   ],
   "source": [
    "# Stock by registration year \n",
    "registration_year_count = vehicle_df['Registration Year'].value_counts().sort_index(ascending=False)\n",
    "registration_year_count"
   ]
  },
  {
   "cell_type": "code",
   "execution_count": 239,
   "id": "ac9ff6cd",
   "metadata": {},
   "outputs": [
    {
     "data": {
      "text/plain": [
       "Make\n",
       "Porsche          41033.33\n",
       "Land             25901.81\n",
       "Alfa             24250.00\n",
       "Jaguar           23679.20\n",
       "Mercedes-Benz    22859.70\n",
       "BMW              21821.66\n",
       "Lexus            21700.00\n",
       "Volvo            21633.53\n",
       "Audi             20826.51\n",
       "Subaru           18860.00\n",
       "Name: Price (£), dtype: float64"
      ]
     },
     "execution_count": 239,
     "metadata": {},
     "output_type": "execute_result"
    }
   ],
   "source": [
    "# Top 10 makes in stock by average price\n",
    "brand_averages = vehicle_df.groupby('Make')['Price (£)'].mean()\n",
    "top_10_brands_by_average_price = brand_averages.sort_values(ascending=False).head(10)\n",
    "top_10_brands_by_average_price = round(top_10_brands_by_average_price, 2)\n",
    "top_10_brands_by_average_price"
   ]
  },
  {
   "cell_type": "code",
   "execution_count": 240,
   "id": "cdaedbf5",
   "metadata": {},
   "outputs": [
    {
     "data": {
      "text/plain": [
       "(array([0, 1, 2, 3, 4, 5, 6, 7, 8, 9]),\n",
       " [Text(0, 0, 'Porsche'),\n",
       "  Text(1, 0, 'Land'),\n",
       "  Text(2, 0, 'Alfa'),\n",
       "  Text(3, 0, 'Jaguar'),\n",
       "  Text(4, 0, 'Mercedes-Benz'),\n",
       "  Text(5, 0, 'BMW'),\n",
       "  Text(6, 0, 'Lexus'),\n",
       "  Text(7, 0, 'Volvo'),\n",
       "  Text(8, 0, 'Audi'),\n",
       "  Text(9, 0, 'Subaru')])"
      ]
     },
     "execution_count": 240,
     "metadata": {},
     "output_type": "execute_result"
    },
    {
     "data": {
      "image/png": "[encoded data removed]",
      "text/plain": [
       "<Figure size 432x288 with 1 Axes>"
      ]
     },
     "metadata": {
      "needs_background": "light"
     },
     "output_type": "display_data"
    }
   ],
   "source": [
    "# Bar chart top 10 makes in stock\n",
    "barchart = top_10_brands_by_average_price.plot.bar(x=\"Brands\", y=\"Price (£)\", ylabel=\"Price(£)\", cmap=\"winter\", title=\"Top 10 Makes by Avg. Price (£)\")\n",
    "plt.xticks(rotation=45)"
   ]
  },
  {
   "cell_type": "code",
   "execution_count": 241,
   "id": "73a8510f",
   "metadata": {},
   "outputs": [
    {
     "data": {
      "text/plain": [
       "(array([0, 1, 2, 3, 4, 5, 6, 7, 8, 9]),\n",
       " [Text(0, 0, 'Smart'),\n",
       "  Text(1, 0, 'Fiat'),\n",
       "  Text(2, 0, 'Ssangyong'),\n",
       "  Text(3, 0, 'Dacia'),\n",
       "  Text(4, 0, 'Renault'),\n",
       "  Text(5, 0, 'Vauxhall'),\n",
       "  Text(6, 0, 'Suzuki'),\n",
       "  Text(7, 0, 'Citroen'),\n",
       "  Text(8, 0, 'Infiniti'),\n",
       "  Text(9, 0, 'DS')])"
      ]
     },
     "execution_count": 241,
     "metadata": {},
     "output_type": "execute_result"
    },
    {
     "data": {
      "image/png": "[encoded data removed]",
      "text/plain": [
       "<Figure size 432x288 with 1 Axes>"
      ]
     },
     "metadata": {
      "needs_background": "light"
     },
     "output_type": "display_data"
    }
   ],
   "source": [
    "# Bottom 10 makes in stock by average price\n",
    "bottom_10_brands_by_average_price = brand_averages.sort_values(ascending=True).head(10)\n",
    "\n",
    "# Bar chart bottom 10 makes in stock\n",
    "barchart = bottom_10_brands_by_average_price.plot.bar(x=\"Make\", y=\"Average Price (£)\", ylabel=\"Price(£)\", cmap=\"Wistia\", title=\"Bottom 10 Makes by Avg. Price (£)\")\n",
    "plt.xticks(rotation=45)"
   ]
  },
  {
   "cell_type": "code",
   "execution_count": 242,
   "id": "ed9f8865",
   "metadata": {},
   "outputs": [
    {
     "data": {
      "text/plain": [
       "Model\n",
       "Rover Range Rover          52200.000000\n",
       "Land Cruiser               45050.000000\n",
       "Rover Discovery            43125.000000\n",
       "Rover Range Rover Sport    42885.714286\n",
       "Macan                      42385.714286\n",
       "718 Cayman                 41900.000000\n",
       "GLE Class                  38600.000000\n",
       "S Class                    38366.666667\n",
       "X5                         37050.000000\n",
       "Rover Range Rover Velar    34533.333333\n",
       "Name: Price (£), dtype: float64"
      ]
     },
     "execution_count": 242,
     "metadata": {},
     "output_type": "execute_result"
    }
   ],
   "source": [
    "# Top 10 models in stock by average price\n",
    "model_averages = vehicle_df.groupby('Model')['Price (£)'].mean()\n",
    "top_10_models_by_average_price = model_averages.sort_values(ascending=False).head(10)\n",
    "top_10_models_by_average_price"
   ]
  },
  {
   "cell_type": "code",
   "execution_count": 243,
   "id": "2d042917",
   "metadata": {},
   "outputs": [
    {
     "data": {
      "text/plain": [
       "(array([0, 1, 2, 3, 4, 5, 6, 7, 8, 9]),\n",
       " [Text(0, 0, 'Rover Range Rover'),\n",
       "  Text(1, 0, 'Land Cruiser'),\n",
       "  Text(2, 0, 'Rover Discovery'),\n",
       "  Text(3, 0, 'Rover Range Rover Sport'),\n",
       "  Text(4, 0, 'Macan'),\n",
       "  Text(5, 0, '718 Cayman'),\n",
       "  Text(6, 0, 'GLE Class'),\n",
       "  Text(7, 0, 'S Class'),\n",
       "  Text(8, 0, 'X5'),\n",
       "  Text(9, 0, 'Rover Range Rover Velar')])"
      ]
     },
     "execution_count": 243,
     "metadata": {},
     "output_type": "execute_result"
    },
    {
     "data": {
      "image/png": "[encoded data removed]",
      "text/plain": [
       "<Figure size 432x288 with 1 Axes>"
      ]
     },
     "metadata": {
      "needs_background": "light"
     },
     "output_type": "display_data"
    }
   ],
   "source": [
    "# Bar chart top 10 models in stock\n",
    "barchart = top_10_models_by_average_price.plot.bar(x=\"Models\", y=\"Price (£)\", ylabel=\"Price(£)\", cmap=\"winter\", title=\"Top 10 Models by Avg. Price (£)\")\n",
    "plt.xticks(rotation=90)"
   ]
  },
  {
   "cell_type": "code",
   "execution_count": 244,
   "id": "e60cb180",
   "metadata": {},
   "outputs": [
    {
     "data": {
      "text/plain": [
       "(array([0, 1, 2, 3, 4, 5, 6, 7, 8, 9]),\n",
       " [Text(0, 0, 'Ka'),\n",
       "  Text(1, 0, 'Celerio'),\n",
       "  Text(2, 0, 'Viva'),\n",
       "  Text(3, 0, 'Baleno'),\n",
       "  Text(4, 0, 'Soul'),\n",
       "  Text(5, 0, 'Citigo'),\n",
       "  Text(6, 0, 'C3 Picasso'),\n",
       "  Text(7, 0, 'Meriva'),\n",
       "  Text(8, 0, 'Scenic'),\n",
       "  Text(9, 0, 'ADAM')])"
      ]
     },
     "execution_count": 244,
     "metadata": {},
     "output_type": "execute_result"
    },
    {
     "data": {
      "image/png": "[encoded data removed]",
      "text/plain": [
       "<Figure size 432x288 with 1 Axes>"
      ]
     },
     "metadata": {
      "needs_background": "light"
     },
     "output_type": "display_data"
    }
   ],
   "source": [
    "# Bottom 10 models in stock by average price\n",
    "bottom_10_models_by_average_price = model_averages.sort_values(ascending=True).head(10)\n",
    "\n",
    "# Bar chart bottom 10 makes in stock\n",
    "barchart = bottom_10_models_by_average_price.plot.bar(x=\"Make\", y=\"Average Price (£)\", ylabel=\"Price(£)\", cmap=\"Wistia\", title=\"Bottom 10 Models by Avg. Price (£)\")\n",
    "plt.xticks(rotation=45)"
   ]
  },
  {
   "cell_type": "code",
   "execution_count": 245,
   "id": "db2f1675",
   "metadata": {},
   "outputs": [
    {
     "data": {
      "text/html": [
       "<div>\n",
       "<style scoped>\n",
       "    .dataframe tbody tr th:only-of-type {\n",
       "        vertical-align: middle;\n",
       "    }\n",
       "\n",
       "    .dataframe tbody tr th {\n",
       "        vertical-align: top;\n",
       "    }\n",
       "\n",
       "    .dataframe thead th {\n",
       "        text-align: right;\n",
       "    }\n",
       "</style>\n",
       "<table border=\"1\" class=\"dataframe\">\n",
       "  <thead>\n",
       "    <tr style=\"text-align: right;\">\n",
       "      <th></th>\n",
       "      <th>Price (£)</th>\n",
       "    </tr>\n",
       "    <tr>\n",
       "      <th>Registration Year</th>\n",
       "      <th></th>\n",
       "    </tr>\n",
       "  </thead>\n",
       "  <tbody>\n",
       "    <tr>\n",
       "      <th>2022</th>\n",
       "      <td>19502.05</td>\n",
       "    </tr>\n",
       "    <tr>\n",
       "      <th>2021</th>\n",
       "      <td>18724.74</td>\n",
       "    </tr>\n",
       "    <tr>\n",
       "      <th>2020</th>\n",
       "      <td>18105.22</td>\n",
       "    </tr>\n",
       "    <tr>\n",
       "      <th>2019</th>\n",
       "      <td>18171.02</td>\n",
       "    </tr>\n",
       "    <tr>\n",
       "      <th>2018</th>\n",
       "      <td>17580.59</td>\n",
       "    </tr>\n",
       "    <tr>\n",
       "      <th>2017</th>\n",
       "      <td>16486.78</td>\n",
       "    </tr>\n",
       "    <tr>\n",
       "      <th>2016</th>\n",
       "      <td>14045.64</td>\n",
       "    </tr>\n",
       "    <tr>\n",
       "      <th>2015</th>\n",
       "      <td>13163.49</td>\n",
       "    </tr>\n",
       "    <tr>\n",
       "      <th>2014</th>\n",
       "      <td>10880.00</td>\n",
       "    </tr>\n",
       "  </tbody>\n",
       "</table>\n",
       "</div>"
      ],
      "text/plain": [
       "                   Price (£)\n",
       "Registration Year           \n",
       "2022                19502.05\n",
       "2021                18724.74\n",
       "2020                18105.22\n",
       "2019                18171.02\n",
       "2018                17580.59\n",
       "2017                16486.78\n",
       "2016                14045.64\n",
       "2015                13163.49\n",
       "2014                10880.00"
      ]
     },
     "execution_count": 245,
     "metadata": {},
     "output_type": "execute_result"
    }
   ],
   "source": [
    "# Relationship between registration year and resale price\n",
    "year_averages = vehicle_df.groupby('Registration Year')['Price (£)'].mean().sort_index(ascending=False)\n",
    "year_averages_df = round(pd.DataFrame(year_averages),2)\n",
    "year_averages_df"
   ]
  },
  {
   "cell_type": "code",
   "execution_count": 246,
   "id": "a3a7ed02",
   "metadata": {},
   "outputs": [
    {
     "data": {
      "text/plain": [
       "(array([2013., 2014., 2015., 2016., 2017., 2018., 2019., 2020., 2021.,\n",
       "        2022., 2023.]),\n",
       " [Text(0, 0, ''),\n",
       "  Text(0, 0, ''),\n",
       "  Text(0, 0, ''),\n",
       "  Text(0, 0, ''),\n",
       "  Text(0, 0, ''),\n",
       "  Text(0, 0, ''),\n",
       "  Text(0, 0, ''),\n",
       "  Text(0, 0, ''),\n",
       "  Text(0, 0, ''),\n",
       "  Text(0, 0, ''),\n",
       "  Text(0, 0, '')])"
      ]
     },
     "execution_count": 246,
     "metadata": {},
     "output_type": "execute_result"
    },
    {
     "data": {
      "image/png": "[encoded data removed]",
      "text/plain": [
       "<Figure size 432x288 with 1 Axes>"
      ]
     },
     "metadata": {
      "needs_background": "light"
     },
     "output_type": "display_data"
    }
   ],
   "source": [
    "# Line graph - Registration year vs price\n",
    "registration_years = year_averages_df.index.tolist()\n",
    "prices_per_year = year_averages_df.iloc[:,0].tolist()\n",
    "\n",
    "plt.plot(registration_years, prices_per_year, label=\"Price (£)\")\n",
    "plt.title(\"Average Price per Registration Year\")\n",
    "plt.xlabel(\"Reg Year\")\n",
    "plt.ylabel(\"Price (£)\")\n",
    "plt.xticks(rotation=45)"
   ]
  },
  {
   "cell_type": "code",
   "execution_count": 247,
   "id": "c6934a29",
   "metadata": {},
   "outputs": [
    {
     "data": {
      "text/plain": [
       "(array([-20000.,      0.,  20000.,  40000.,  60000.,  80000., 100000.]),\n",
       " [Text(0, 0, ''),\n",
       "  Text(0, 0, ''),\n",
       "  Text(0, 0, ''),\n",
       "  Text(0, 0, ''),\n",
       "  Text(0, 0, ''),\n",
       "  Text(0, 0, ''),\n",
       "  Text(0, 0, '')])"
      ]
     },
     "execution_count": 247,
     "metadata": {},
     "output_type": "execute_result"
    },
    {
     "data": {
      "image/png": "[encoded data removed]",
      "text/plain": [
       "<Figure size 432x288 with 1 Axes>"
      ]
     },
     "metadata": {
      "needs_background": "light"
     },
     "output_type": "display_data"
    }
   ],
   "source": [
    "# Relationship between mileage and resale price\n",
    "vehicle_df['Mileage Category'] = vehicle_df['Milage'] // 10000 * 10000\n",
    "mileage_averages_df = vehicle_df.groupby('Mileage Category')['Price (£)'].mean().sort_index(ascending=False)\n",
    "mileage_averages_df = round(pd.DataFrame(mileage_averages_df),2)\n",
    "\n",
    "# Line Graph\n",
    "mileage_categories = mileage_averages_df.index.tolist()\n",
    "prices_per_mileage_cat = mileage_averages_df.iloc[:,0].tolist()\n",
    "\n",
    "plt.plot(mileage_categories, prices_per_mileage_cat, label=\"Price (£)\", color='orange')\n",
    "plt.title(\"Average Price per Mileage\")\n",
    "plt.xlabel(\"Mileage (mi.)\")\n",
    "plt.ylabel(\"Price (£)\")\n",
    "plt.xticks(rotation=45)"
   ]
  },
  {
   "cell_type": "code",
   "execution_count": 248,
   "id": "54af9b4f",
   "metadata": {},
   "outputs": [
    {
     "data": {
      "text/plain": [
       "([<matplotlib.patches.Wedge at 0x7fb168825550>,\n",
       "  <matplotlib.patches.Wedge at 0x7fb168825c70>,\n",
       "  <matplotlib.patches.Wedge at 0x7fb1688343d0>],\n",
       " [Text(-0.17174608698486798, 1.0865096785603827, 'Alternative'),\n",
       "  Text(-1.0218990887007502, 0.40708998085506376, 'Diesel'),\n",
       "  Text(1.0147684394461705, -0.4245527226434712, 'Petrol')],\n",
       " [Text(-0.09367968380992799, 0.5926416428511178, '0.5%'),\n",
       "  Text(-0.5573995029276819, 0.2220490804663984, '32.4%'),\n",
       "  Text(0.5535100578797293, -0.23157421235098424, '67.1%')])"
      ]
     },
     "execution_count": 248,
     "metadata": {},
     "output_type": "execute_result"
    },
    {
     "data": {
      "image/png": "[encoded data removed]",
      "text/plain": [
       "<Figure size 432x288 with 1 Axes>"
      ]
     },
     "metadata": {},
     "output_type": "display_data"
    }
   ],
   "source": [
    "# Get number of cars in stock for each fuel type\n",
    "fuel_count = vehicle_df['Fuel Type'].value_counts()\n",
    "\n",
    "# Group alternative fuels (to avoid overlapping in pie chart as value are too small)\n",
    "fuel_types = list(fuel_count.index)\n",
    "fuel_type_count = []\n",
    "\n",
    "for fuel_type in fuel_types:\n",
    "    fuel_type_count.append(fuel_count[fuel_type])\n",
    "\n",
    "fuel_type_dict_count = {'Fuel Type': fuel_types, 'Count': fuel_type_count}\n",
    "fuel_type_dict_count\n",
    "\n",
    "fuel_type_df = pd.DataFrame(fuel_type_dict_count)\n",
    "\n",
    "fuel_type_df['Fuel Type'] = fuel_type_df['Fuel Type'].replace(['Hybrid', 'Petrol & LPG', 'Electric', 'Plug-in hybrid'], 'Alternative')\n",
    "fuel_type_df = fuel_type_df.groupby('Fuel Type').sum()\n",
    "\n",
    "# Fuel type pie chart\n",
    "fuel_type_count = fuel_type_df['Count']\n",
    "plt.title(\"Fuel Type % in Stock\")\n",
    "plt.pie(fuel_type_count, labels=fuel_type_count.index, autopct='%1.1f%%', startangle=98)"
   ]
  },
  {
   "cell_type": "code",
   "execution_count": 249,
   "id": "b491296e",
   "metadata": {},
   "outputs": [
    {
     "data": {
      "text/plain": [
       "Petrol            4177\n",
       "Diesel            2018\n",
       "Hybrid              28\n",
       "Electric             3\n",
       "Petrol & LPG         2\n",
       "Plug-in hybrid       1\n",
       "Name: Fuel Type, dtype: int64"
      ]
     },
     "execution_count": 249,
     "metadata": {},
     "output_type": "execute_result"
    }
   ],
   "source": [
    "# Fuel type count\n",
    "fuel_count.sort_values(ascending=False)"
   ]
  },
  {
   "cell_type": "code",
   "execution_count": 250,
   "id": "b09c1527",
   "metadata": {},
   "outputs": [
    {
     "data": {
      "text/plain": [
       "<AxesSubplot:title={'center':'Fuel Type by Avg. Price (£)'}, xlabel='Fuel Type', ylabel='Price (£)'>"
      ]
     },
     "execution_count": 250,
     "metadata": {},
     "output_type": "execute_result"
    },
    {
     "data": {
      "image/png": "[encoded data removed]",
      "text/plain": [
       "<Figure size 432x288 with 1 Axes>"
      ]
     },
     "metadata": {
      "needs_background": "light"
     },
     "output_type": "display_data"
    }
   ],
   "source": [
    "# Average price by fuel type\n",
    "fuel_type_average = vehicle_df.groupby('Fuel Type')['Price (£)'].mean().sort_values(ascending=False)\n",
    "fuel_type_average = round(fuel_type_average, 2)\n",
    "fuel_type_average.index\n",
    "colours = {'Hybrid': 'darkcyan', 'Diesel':'black', 'Petrol':'grey', 'Petrol & LPG':'forestgreen', 'Electric':'deepskyblue', 'Plug-in hybrid': 'cornflowerblue'}\n",
    "fuel_type_average.plot.bar(x=\"Fuel Type\", y=\"Price\", ylabel=\"Price (£)\", color=[colours[key] for key in fuel_type_average.index], title=\"Fuel Type by Avg. Price (£)\")"
   ]
  },
  {
   "cell_type": "code",
   "execution_count": 251,
   "id": "81e3c268",
   "metadata": {},
   "outputs": [
    {
     "data": {
      "text/html": [
       "<div>\n",
       "<style scoped>\n",
       "    .dataframe tbody tr th:only-of-type {\n",
       "        vertical-align: middle;\n",
       "    }\n",
       "\n",
       "    .dataframe tbody tr th {\n",
       "        vertical-align: top;\n",
       "    }\n",
       "\n",
       "    .dataframe thead th {\n",
       "        text-align: right;\n",
       "    }\n",
       "</style>\n",
       "<table border=\"1\" class=\"dataframe\">\n",
       "  <thead>\n",
       "    <tr style=\"text-align: right;\">\n",
       "      <th>Registration Year</th>\n",
       "      <th>Model</th>\n",
       "      <th>2015</th>\n",
       "      <th>2016</th>\n",
       "      <th>2017</th>\n",
       "      <th>2018</th>\n",
       "      <th>2019</th>\n",
       "      <th>2020</th>\n",
       "      <th>2021</th>\n",
       "    </tr>\n",
       "  </thead>\n",
       "  <tbody>\n",
       "    <tr>\n",
       "      <th>0</th>\n",
       "      <td>1 Series</td>\n",
       "      <td>13560.00</td>\n",
       "      <td>16450.00</td>\n",
       "      <td>18525.00</td>\n",
       "      <td>20500.00</td>\n",
       "      <td>20989.13</td>\n",
       "      <td>23919.57</td>\n",
       "      <td>32100.00</td>\n",
       "    </tr>\n",
       "    <tr>\n",
       "      <th>3</th>\n",
       "      <td>2 Series</td>\n",
       "      <td>19850.00</td>\n",
       "      <td>19131.82</td>\n",
       "      <td>20283.33</td>\n",
       "      <td>19725.00</td>\n",
       "      <td>21663.33</td>\n",
       "      <td>20550.00</td>\n",
       "      <td>21100.00</td>\n",
       "    </tr>\n",
       "    <tr>\n",
       "      <th>9</th>\n",
       "      <td>3 Series</td>\n",
       "      <td>17000.00</td>\n",
       "      <td>17987.50</td>\n",
       "      <td>23770.00</td>\n",
       "      <td>19633.33</td>\n",
       "      <td>25240.00</td>\n",
       "      <td>29083.33</td>\n",
       "      <td>30500.00</td>\n",
       "    </tr>\n",
       "    <tr>\n",
       "      <th>11</th>\n",
       "      <td>3008</td>\n",
       "      <td>9200.00</td>\n",
       "      <td>10650.00</td>\n",
       "      <td>17333.33</td>\n",
       "      <td>18050.00</td>\n",
       "      <td>19394.74</td>\n",
       "      <td>22050.00</td>\n",
       "      <td>22050.00</td>\n",
       "    </tr>\n",
       "    <tr>\n",
       "      <th>19</th>\n",
       "      <td>500</td>\n",
       "      <td>8733.33</td>\n",
       "      <td>9283.33</td>\n",
       "      <td>10037.50</td>\n",
       "      <td>9595.83</td>\n",
       "      <td>10417.11</td>\n",
       "      <td>11975.00</td>\n",
       "      <td>11956.25</td>\n",
       "    </tr>\n",
       "    <tr>\n",
       "      <th>29</th>\n",
       "      <td>A Class</td>\n",
       "      <td>13950.00</td>\n",
       "      <td>14850.00</td>\n",
       "      <td>17652.94</td>\n",
       "      <td>20403.79</td>\n",
       "      <td>22084.95</td>\n",
       "      <td>24110.00</td>\n",
       "      <td>22733.33</td>\n",
       "    </tr>\n",
       "    <tr>\n",
       "      <th>30</th>\n",
       "      <td>A1</td>\n",
       "      <td>12900.00</td>\n",
       "      <td>14512.50</td>\n",
       "      <td>13106.67</td>\n",
       "      <td>13990.91</td>\n",
       "      <td>19705.17</td>\n",
       "      <td>21750.00</td>\n",
       "      <td>20635.71</td>\n",
       "    </tr>\n",
       "    <tr>\n",
       "      <th>31</th>\n",
       "      <td>A3</td>\n",
       "      <td>14600.00</td>\n",
       "      <td>15514.29</td>\n",
       "      <td>16920.83</td>\n",
       "      <td>17655.88</td>\n",
       "      <td>20308.33</td>\n",
       "      <td>22177.27</td>\n",
       "      <td>24125.00</td>\n",
       "    </tr>\n",
       "    <tr>\n",
       "      <th>57</th>\n",
       "      <td>C Class</td>\n",
       "      <td>16175.00</td>\n",
       "      <td>18975.00</td>\n",
       "      <td>20450.00</td>\n",
       "      <td>22092.19</td>\n",
       "      <td>23711.90</td>\n",
       "      <td>22150.00</td>\n",
       "      <td>30250.00</td>\n",
       "    </tr>\n",
       "    <tr>\n",
       "      <th>90</th>\n",
       "      <td>Corsa</td>\n",
       "      <td>10883.33</td>\n",
       "      <td>10470.83</td>\n",
       "      <td>10130.00</td>\n",
       "      <td>10571.74</td>\n",
       "      <td>10726.83</td>\n",
       "      <td>14020.83</td>\n",
       "      <td>14468.42</td>\n",
       "    </tr>\n",
       "    <tr>\n",
       "      <th>108</th>\n",
       "      <td>Fiesta</td>\n",
       "      <td>10416.67</td>\n",
       "      <td>10029.55</td>\n",
       "      <td>11406.82</td>\n",
       "      <td>12604.55</td>\n",
       "      <td>13790.70</td>\n",
       "      <td>14127.19</td>\n",
       "      <td>15660.71</td>\n",
       "    </tr>\n",
       "    <tr>\n",
       "      <th>109</th>\n",
       "      <td>Focus</td>\n",
       "      <td>11250.00</td>\n",
       "      <td>16625.00</td>\n",
       "      <td>13850.00</td>\n",
       "      <td>13728.95</td>\n",
       "      <td>16917.14</td>\n",
       "      <td>17126.00</td>\n",
       "      <td>16700.00</td>\n",
       "    </tr>\n",
       "    <tr>\n",
       "      <th>116</th>\n",
       "      <td>Golf</td>\n",
       "      <td>19683.33</td>\n",
       "      <td>16580.00</td>\n",
       "      <td>19130.77</td>\n",
       "      <td>18480.77</td>\n",
       "      <td>18696.59</td>\n",
       "      <td>18806.00</td>\n",
       "      <td>22983.33</td>\n",
       "    </tr>\n",
       "    <tr>\n",
       "      <th>124</th>\n",
       "      <td>Hatch</td>\n",
       "      <td>12760.00</td>\n",
       "      <td>12445.00</td>\n",
       "      <td>14673.81</td>\n",
       "      <td>15873.15</td>\n",
       "      <td>16786.67</td>\n",
       "      <td>17665.62</td>\n",
       "      <td>21410.00</td>\n",
       "    </tr>\n",
       "    <tr>\n",
       "      <th>129</th>\n",
       "      <td>Jazz</td>\n",
       "      <td>10475.00</td>\n",
       "      <td>10925.00</td>\n",
       "      <td>12675.00</td>\n",
       "      <td>14100.00</td>\n",
       "      <td>13462.50</td>\n",
       "      <td>15600.00</td>\n",
       "      <td>18800.00</td>\n",
       "    </tr>\n",
       "    <tr>\n",
       "      <th>133</th>\n",
       "      <td>Juke</td>\n",
       "      <td>11650.00</td>\n",
       "      <td>10810.00</td>\n",
       "      <td>11884.38</td>\n",
       "      <td>12670.45</td>\n",
       "      <td>14353.23</td>\n",
       "      <td>14200.00</td>\n",
       "      <td>18991.67</td>\n",
       "    </tr>\n",
       "    <tr>\n",
       "      <th>142</th>\n",
       "      <td>Kuga</td>\n",
       "      <td>12600.00</td>\n",
       "      <td>13642.86</td>\n",
       "      <td>15240.91</td>\n",
       "      <td>16373.40</td>\n",
       "      <td>17315.62</td>\n",
       "      <td>24683.33</td>\n",
       "      <td>25330.00</td>\n",
       "    </tr>\n",
       "    <tr>\n",
       "      <th>173</th>\n",
       "      <td>Polo</td>\n",
       "      <td>11757.14</td>\n",
       "      <td>12297.37</td>\n",
       "      <td>11812.50</td>\n",
       "      <td>13566.67</td>\n",
       "      <td>15225.93</td>\n",
       "      <td>15212.50</td>\n",
       "      <td>17975.00</td>\n",
       "    </tr>\n",
       "    <tr>\n",
       "      <th>184</th>\n",
       "      <td>Qashqai</td>\n",
       "      <td>11678.57</td>\n",
       "      <td>12773.91</td>\n",
       "      <td>13576.67</td>\n",
       "      <td>15072.41</td>\n",
       "      <td>15939.72</td>\n",
       "      <td>17811.54</td>\n",
       "      <td>18471.43</td>\n",
       "    </tr>\n",
       "    <tr>\n",
       "      <th>219</th>\n",
       "      <td>Sportage</td>\n",
       "      <td>10383.33</td>\n",
       "      <td>12533.33</td>\n",
       "      <td>15668.75</td>\n",
       "      <td>16538.54</td>\n",
       "      <td>18559.38</td>\n",
       "      <td>21525.00</td>\n",
       "      <td>22650.00</td>\n",
       "    </tr>\n",
       "    <tr>\n",
       "      <th>230</th>\n",
       "      <td>Tiguan</td>\n",
       "      <td>11550.00</td>\n",
       "      <td>18350.00</td>\n",
       "      <td>18125.00</td>\n",
       "      <td>21400.00</td>\n",
       "      <td>23386.76</td>\n",
       "      <td>26200.00</td>\n",
       "      <td>24375.00</td>\n",
       "    </tr>\n",
       "    <tr>\n",
       "      <th>250</th>\n",
       "      <td>X1</td>\n",
       "      <td>13700.00</td>\n",
       "      <td>16533.33</td>\n",
       "      <td>19030.00</td>\n",
       "      <td>20379.17</td>\n",
       "      <td>22700.00</td>\n",
       "      <td>25450.00</td>\n",
       "      <td>32283.33</td>\n",
       "    </tr>\n",
       "  </tbody>\n",
       "</table>\n",
       "</div>"
      ],
      "text/plain": [
       "Registration Year     Model      2015      2016      2017      2018      2019  \\\n",
       "0                  1 Series  13560.00  16450.00  18525.00  20500.00  20989.13   \n",
       "3                  2 Series  19850.00  19131.82  20283.33  19725.00  21663.33   \n",
       "9                  3 Series  17000.00  17987.50  23770.00  19633.33  25240.00   \n",
       "11                     3008   9200.00  10650.00  17333.33  18050.00  19394.74   \n",
       "19                      500   8733.33   9283.33  10037.50   9595.83  10417.11   \n",
       "29                  A Class  13950.00  14850.00  17652.94  20403.79  22084.95   \n",
       "30                       A1  12900.00  14512.50  13106.67  13990.91  19705.17   \n",
       "31                       A3  14600.00  15514.29  16920.83  17655.88  20308.33   \n",
       "57                  C Class  16175.00  18975.00  20450.00  22092.19  23711.90   \n",
       "90                    Corsa  10883.33  10470.83  10130.00  10571.74  10726.83   \n",
       "108                  Fiesta  10416.67  10029.55  11406.82  12604.55  13790.70   \n",
       "109                   Focus  11250.00  16625.00  13850.00  13728.95  16917.14   \n",
       "116                    Golf  19683.33  16580.00  19130.77  18480.77  18696.59   \n",
       "124                   Hatch  12760.00  12445.00  14673.81  15873.15  16786.67   \n",
       "129                    Jazz  10475.00  10925.00  12675.00  14100.00  13462.50   \n",
       "133                    Juke  11650.00  10810.00  11884.38  12670.45  14353.23   \n",
       "142                    Kuga  12600.00  13642.86  15240.91  16373.40  17315.62   \n",
       "173                    Polo  11757.14  12297.37  11812.50  13566.67  15225.93   \n",
       "184                 Qashqai  11678.57  12773.91  13576.67  15072.41  15939.72   \n",
       "219                Sportage  10383.33  12533.33  15668.75  16538.54  18559.38   \n",
       "230                  Tiguan  11550.00  18350.00  18125.00  21400.00  23386.76   \n",
       "250                      X1  13700.00  16533.33  19030.00  20379.17  22700.00   \n",
       "\n",
       "Registration Year      2020      2021  \n",
       "0                  23919.57  32100.00  \n",
       "3                  20550.00  21100.00  \n",
       "9                  29083.33  30500.00  \n",
       "11                 22050.00  22050.00  \n",
       "19                 11975.00  11956.25  \n",
       "29                 24110.00  22733.33  \n",
       "30                 21750.00  20635.71  \n",
       "31                 22177.27  24125.00  \n",
       "57                 22150.00  30250.00  \n",
       "90                 14020.83  14468.42  \n",
       "108                14127.19  15660.71  \n",
       "109                17126.00  16700.00  \n",
       "116                18806.00  22983.33  \n",
       "124                17665.62  21410.00  \n",
       "129                15600.00  18800.00  \n",
       "133                14200.00  18991.67  \n",
       "142                24683.33  25330.00  \n",
       "173                15212.50  17975.00  \n",
       "184                17811.54  18471.43  \n",
       "219                21525.00  22650.00  \n",
       "230                26200.00  24375.00  \n",
       "250                25450.00  32283.33  "
      ]
     },
     "execution_count": 251,
     "metadata": {},
     "output_type": "execute_result"
    }
   ],
   "source": [
    "# Question 1: Which models retain their value the most?\n",
    "# Get data frame with average value (£) by model by registration year\n",
    "depreciation_table = vehicle_df.pivot_table(index=[\"Model\"], columns=[\"Registration Year\"], values=\"Price (£)\", aggfunc=\"mean\")\n",
    "depreciation_table = depreciation_table.round(2)\n",
    "depreciation_df = depreciation_table.reset_index()\n",
    "depreciation_df = depreciation_df.drop(columns=[2014,2022]).dropna()\n",
    "depreciation_df"
   ]
  },
  {
   "cell_type": "code",
   "execution_count": 252,
   "id": "fc231eff",
   "metadata": {},
   "outputs": [
    {
     "data": {
      "text/plain": [
       "<AxesSubplot:title={'center':'Average Depreciation % by Model'}, xlabel='Model', ylabel='% Depreciation'>"
      ]
     },
     "execution_count": 252,
     "metadata": {},
     "output_type": "execute_result"
    },
    {
     "data": {
      "image/png": "[encoded data removed]",
      "text/plain": [
       "<Figure size 432x288 with 1 Axes>"
      ]
     },
     "metadata": {
      "needs_background": "light"
     },
     "output_type": "display_data"
    }
   ],
   "source": [
    "# Models in stock showing the most depreciation\n",
    "depreciation_df['Average Depreciation p/ Year (%)'] = round((((depreciation_df[2015] - depreciation_df[2021]) / 7) / depreciation_df[2021]) * 100, 2)\n",
    "depreciation_df = depreciation_df.sort_values('Average Depreciation p/ Year (%)', ascending=True)\n",
    "depreciation_df\n",
    "\n",
    "# Bar chart\n",
    "depreciation_df.plot.bar(x=\"Model\", y=\"Average Depreciation p/ Year (%)\", ylabel=\"% Depreciation\", color=\"brown\", title=\"Average Depreciation % by Model\")"
   ]
  },
  {
   "cell_type": "code",
   "execution_count": 253,
   "id": "4eab10b0",
   "metadata": {},
   "outputs": [
    {
     "data": {
      "text/plain": [
       "<AxesSubplot:title={'center':'Average Depreciation % by Make'}, xlabel='Make', ylabel='% Depreciation'>"
      ]
     },
     "execution_count": 253,
     "metadata": {},
     "output_type": "execute_result"
    },
    {
     "data": {
      "image/png": "[encoded data removed]",
      "text/plain": [
       "<Figure size 432x288 with 1 Axes>"
      ]
     },
     "metadata": {
      "needs_background": "light"
     },
     "output_type": "display_data"
    }
   ],
   "source": [
    "# And by make?\n",
    "depreciation_table = vehicle_df.pivot_table(index=[\"Make\"], columns=[\"Registration Year\"], values=\"Price (£)\", aggfunc=\"mean\")\n",
    "depreciation_table = depreciation_table.round(2)\n",
    "depreciation_df = depreciation_table.reset_index()\n",
    "depreciation_df = depreciation_df.drop(columns=[2014,2022]).dropna()\n",
    "\n",
    "depreciation_df['Average Depreciation p/ Year (%)'] = round((((depreciation_df[2015] - depreciation_df[2021]) / 7) / depreciation_df[2021]) * 100, 2)\n",
    "depreciation_df = depreciation_df.sort_values('Average Depreciation p/ Year (%)', ascending=True)\n",
    "\n",
    "depreciation_df.plot.bar(x=\"Make\", y=\"Average Depreciation p/ Year (%)\", ylabel=\"% Depreciation\", color=\"chocolate\", title=\"Average Depreciation % by Make\")"
   ]
  },
  {
   "cell_type": "code",
   "execution_count": 254,
   "id": "bbac3902",
   "metadata": {},
   "outputs": [
    {
     "data": {
      "text/plain": [
       "<AxesSubplot:title={'center':'Average Depreciation % by Mileage'}, xlabel='Mileage Category', ylabel='% Depreciation'>"
      ]
     },
     "execution_count": 254,
     "metadata": {},
     "output_type": "execute_result"
    },
    {
     "data": {
      "image/png": "[encoded data removed]",
      "text/plain": [
       "<Figure size 432x288 with 1 Axes>"
      ]
     },
     "metadata": {
      "needs_background": "light"
     },
     "output_type": "display_data"
    }
   ],
   "source": [
    "# How does mileage affect depreciation?\n",
    "depreciation_table = vehicle_df.pivot_table(index=[\"Mileage Category\"], columns=[\"Registration Year\"], values=\"Price (£)\", aggfunc=\"mean\")\n",
    "depreciation_table = depreciation_table.round(2)\n",
    "depreciation_df = depreciation_table.reset_index()\n",
    "depreciation_df = depreciation_df.drop(columns=[2014,2022]).dropna()\n",
    "\n",
    "depreciation_df['Average Depreciation p/ Year (%)'] = round((((depreciation_df[2015] - depreciation_df[2021]) / 7) / depreciation_df[2021]) * 100, 2)\n",
    "depreciation_df = depreciation_df.sort_values('Average Depreciation p/ Year (%)', ascending=True)\n",
    "\n",
    "depreciation_df.plot.line(x=\"Mileage Category\", y=\"Average Depreciation p/ Year (%)\", ylabel=\"% Depreciation\", color=\"grey\", title=\"Average Depreciation % by Mileage\")"
   ]
  },
  {
   "cell_type": "code",
   "execution_count": 255,
   "id": "e27688f0",
   "metadata": {},
   "outputs": [
    {
     "data": {
      "text/plain": [
       "<AxesSubplot:title={'center':'Average Depreciation % by Fuel Type'}, xlabel='Fuel Type', ylabel='Depreciation %'>"
      ]
     },
     "execution_count": 255,
     "metadata": {},
     "output_type": "execute_result"
    },
    {
     "data": {
      "image/png": "[encoded data removed]",
      "text/plain": [
       "<Figure size 432x288 with 1 Axes>"
      ]
     },
     "metadata": {
      "needs_background": "light"
     },
     "output_type": "display_data"
    }
   ],
   "source": [
    "# Finally, what is the depreciation rates by fuel types?\n",
    "depreciation_table = vehicle_df.pivot_table(index=[\"Fuel Type\"], columns=[\"Registration Year\"], values=\"Price (£)\", aggfunc=\"mean\")\n",
    "depreciation_table = depreciation_table.round(2)\n",
    "depreciation_df = depreciation_table.reset_index()\n",
    "depreciation_df = depreciation_df.drop(columns=[2014,2022]).dropna()\n",
    "\n",
    "depreciation_df['Average Depreciation p/ Year (%)'] = round((((depreciation_df[2015] - depreciation_df[2021]) / 7) / depreciation_df[2021]) * 100, 2)\n",
    "depreciation_df = depreciation_df.sort_values('Average Depreciation p/ Year (%)', ascending=True)\n",
    "depreciation_df.plot.bar(x=\"Fuel Type\", y=\"Average Depreciation p/ Year (%)\", ylabel=\"Depreciation %\", color=['black', 'grey', 'darkcyan'], title=\"Average Depreciation % by Fuel Type\")"
   ]
  },
  {
   "cell_type": "code",
   "execution_count": 262,
   "id": "067e7ae3",
   "metadata": {},
   "outputs": [
    {
     "name": "stdout",
     "output_type": "stream",
     "text": [
      "On average, each car goes through 1.7 owners\n"
     ]
    }
   ],
   "source": [
    "# Question 2: How does the number of owners affect the price?\n",
    "# First, how many owners each car goes through on average?\n",
    "average_owners = round(vehicle_df['N of Owners'].mean(),1)\n",
    "print(\"On average, each car goes through\", average_owners, \"owners\")"
   ]
  },
  {
   "cell_type": "code",
   "execution_count": 263,
   "id": "6507c7f2",
   "metadata": {},
   "outputs": [
    {
     "data": {
      "text/plain": [
       "<AxesSubplot:title={'center':'Relationship Between Number of Owners and Price'}, xlabel='N of Owners', ylabel='Price (£)'>"
      ]
     },
     "execution_count": 263,
     "metadata": {},
     "output_type": "execute_result"
    },
    {
     "data": {
      "image/png": "[encoded data removed]",
      "text/plain": [
       "<Figure size 432x288 with 1 Axes>"
      ]
     },
     "metadata": {
      "needs_background": "light"
     },
     "output_type": "display_data"
    }
   ],
   "source": [
    "price_averages_by_owners = vehicle_df.groupby('N of Owners')['Price (£)'].mean()\n",
    "\n",
    "# Line graph\n",
    "price_averages_by_owners.plot.line(x='N of Owners', y='Price (£)', ylabel=\"Price (£)\", title=\"Relationship Between Number of Owners and Price\")"
   ]
  },
  {
   "cell_type": "code",
   "execution_count": 264,
   "id": "0ff5e58c",
   "metadata": {},
   "outputs": [
    {
     "name": "stdout",
     "output_type": "stream",
     "text": [
      "On average, each owner drivers 19945.69 miles in each car\n"
     ]
    }
   ],
   "source": [
    "# How many miles does each owner drive on average?\n",
    "vehicle_df['Miles p/ Owner'] = round(vehicle_df['Milage'] / vehicle_df['N of Owners'])\n",
    "average_miles_per_owner = round(vehicle_df['Miles p/ Owner'].mean(),2)\n",
    "print(\"On average, each owner drivers\", average_miles_per_owner, \"miles in each car\")"
   ]
  },
  {
   "cell_type": "code",
   "execution_count": 259,
   "id": "26227d0e",
   "metadata": {},
   "outputs": [
    {
     "data": {
      "text/plain": [
       "<AxesSubplot:title={'center':'Which Cars People Keep for Longer'}, xlabel='Model', ylabel='Average Number of Owners'>"
      ]
     },
     "execution_count": 259,
     "metadata": {},
     "output_type": "execute_result"
    },
    {
     "data": {
      "image/png": "[encoded data removed]",
      "text/plain": [
       "<Figure size 432x288 with 1 Axes>"
      ]
     },
     "metadata": {
      "needs_background": "light"
     },
     "output_type": "display_data"
    }
   ],
   "source": [
    "# Question 3: Which models do people keep for longer?\n",
    "# Get models with significant occurences in the data (+25) and drop recent rows (2021 and later)\n",
    "longevity_df = vehicle_df[vehicle_df[\"Registration Year\"] < 2021]\n",
    "model_count = longevity_df['Model'].value_counts()\n",
    "model_selection = list(model_count[model_count >= 25].index)\n",
    "\n",
    "# Group models by number of owners\n",
    "models_by_owners = longevity_df.groupby('Model')['N of Owners'].mean()\n",
    "models_by_owners = models_by_owners.loc[model_selection].sort_values(ascending=True)\n",
    "models_by_owners = models_by_owners.head(20)\n",
    "\n",
    "# Bar chart\n",
    "models_by_owners.plot.bar(x=\"Model\", y=\"N of Owners\", ylabel=\"Average Number of Owners\", title=\"Which Cars People Keep for Longer\")"
   ]
  },
  {
   "cell_type": "code",
   "execution_count": 260,
   "id": "0b11f10b",
   "metadata": {},
   "outputs": [
    {
     "data": {
      "text/plain": [
       "<AxesSubplot:title={'center':'Which Cars People Sell More Often'}, xlabel='Model', ylabel='Average Number of Owners'>"
      ]
     },
     "execution_count": 260,
     "metadata": {},
     "output_type": "execute_result"
    },
    {
     "data": {
      "image/png": "[encoded data removed]",
      "text/plain": [
       "<Figure size 432x288 with 1 Axes>"
      ]
     },
     "metadata": {
      "needs_background": "light"
     },
     "output_type": "display_data"
    }
   ],
   "source": [
    "# Which cars are less desirable?\n",
    "# Group models by number of owners\n",
    "models_by_owners = longevity_df.groupby('Model')['N of Owners'].mean()\n",
    "models_by_owners = models_by_owners.loc[model_selection].sort_values(ascending=False)\n",
    "models_by_owners = models_by_owners.head(20)\n",
    "\n",
    "# Bar chart\n",
    "models_by_owners.plot.bar(x=\"Model\", y=\"N of Owners\", ylabel=\"Average Number of Owners\", color=\"darkorange\", title=\"Which Cars People Sell More Often\")"
   ]
  },
  {
   "cell_type": "code",
   "execution_count": null,
   "id": "06af77d8",
   "metadata": {},
   "outputs": [],
   "source": []
  }
 ],
 "metadata": {
  "kernelspec": {
   "display_name": "Python 3 (ipykernel)",
   "language": "python",
   "name": "python3"
  },
  "language_info": {
   "codemirror_mode": {
    "name": "ipython",
    "version": 3
   },
   "file_extension": ".py",
   "mimetype": "text/x-python",
   "name": "python",
   "nbconvert_exporter": "python",
   "pygments_lexer": "ipython3",
   "version": "3.9.12"
  }
 },
 "nbformat": 4,
 "nbformat_minor": 5
}
