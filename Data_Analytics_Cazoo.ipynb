{
 "cells": [
  {
   "cell_type": "code",
   "execution_count": 1,
   "id": "e72633a5",
   "metadata": {},
   "outputs": [],
   "source": [
    "import requests\n",
    "import pandas as pd\n",
    "import csv\n",
    "from bs4 import BeautifulSoup"
   ]
  },
  {
   "cell_type": "code",
   "execution_count": 4,
   "id": "cdbce858",
   "metadata": {},
   "outputs": [
    {
     "data": {
      "text/plain": [
       "200"
      ]
     },
     "execution_count": 4,
     "metadata": {},
     "output_type": "execute_result"
    }
   ],
   "source": [
    "url = \"https://www.cazoo.co.uk/cars/\"\n",
    "response = requests.get(url)\n",
    "response.status_code"
   ]
  },
  {
   "cell_type": "code",
   "execution_count": 9,
   "id": "aad73c31",
   "metadata": {},
   "outputs": [
    {
     "data": {
      "text/plain": [
       "[<p class=\"full-pricestyles__Price-sc-12l0fhp-0 kZsXtM\" data-test-id=\"card-pricing-full-price-gb\">£6,500</p>,\n",
       " <p class=\"full-pricestyles__Price-sc-12l0fhp-0 kZsXtM\" data-test-id=\"card-pricing-full-price-gb\">£6,550</p>,\n",
       " <p class=\"full-pricestyles__Price-sc-12l0fhp-0 kZsXtM\" data-test-id=\"card-pricing-full-price-gb\">£6,700</p>,\n",
       " <p class=\"full-pricestyles__Price-sc-12l0fhp-0 kZsXtM\" data-test-id=\"card-pricing-full-price-gb\">£7,000</p>,\n",
       " <p class=\"full-pricestyles__Price-sc-12l0fhp-0 kZsXtM\" data-test-id=\"card-pricing-full-price-gb\">£7,000</p>,\n",
       " <p class=\"full-pricestyles__Price-sc-12l0fhp-0 kZsXtM\" data-test-id=\"card-pricing-full-price-gb\">£7,000</p>,\n",
       " <p class=\"full-pricestyles__Price-sc-12l0fhp-0 kZsXtM\" data-test-id=\"card-pricing-full-price-gb\">£7,000</p>,\n",
       " <p class=\"full-pricestyles__Price-sc-12l0fhp-0 kZsXtM\" data-test-id=\"card-pricing-full-price-gb\">£7,250</p>,\n",
       " <p class=\"full-pricestyles__Price-sc-12l0fhp-0 kZsXtM\" data-test-id=\"card-pricing-full-price-gb\">£7,250</p>,\n",
       " <p class=\"full-pricestyles__Price-sc-12l0fhp-0 kZsXtM\" data-test-id=\"card-pricing-full-price-gb\">£7,250</p>,\n",
       " <p class=\"full-pricestyles__Price-sc-12l0fhp-0 kZsXtM\" data-test-id=\"card-pricing-full-price-gb\">£7,350</p>,\n",
       " <p class=\"full-pricestyles__Price-sc-12l0fhp-0 kZsXtM\" data-test-id=\"card-pricing-full-price-gb\">£7,350</p>,\n",
       " <p class=\"full-pricestyles__Price-sc-12l0fhp-0 kZsXtM\" data-test-id=\"card-pricing-full-price-gb\">£7,400</p>,\n",
       " <p class=\"full-pricestyles__Price-sc-12l0fhp-0 kZsXtM\" data-test-id=\"card-pricing-full-price-gb\">£7,500</p>,\n",
       " <p class=\"full-pricestyles__Price-sc-12l0fhp-0 kZsXtM\" data-test-id=\"card-pricing-full-price-gb\">£7,500</p>,\n",
       " <p class=\"full-pricestyles__Price-sc-12l0fhp-0 kZsXtM\" data-test-id=\"card-pricing-full-price-gb\">£7,500</p>,\n",
       " <p class=\"full-pricestyles__Price-sc-12l0fhp-0 kZsXtM\" data-test-id=\"card-pricing-full-price-gb\">£7,550</p>,\n",
       " <p class=\"full-pricestyles__Price-sc-12l0fhp-0 kZsXtM\" data-test-id=\"card-pricing-full-price-gb\">£7,550</p>,\n",
       " <p class=\"full-pricestyles__Price-sc-12l0fhp-0 kZsXtM\" data-test-id=\"card-pricing-full-price-gb\">£7,600</p>,\n",
       " <p class=\"full-pricestyles__Price-sc-12l0fhp-0 kZsXtM\" data-test-id=\"card-pricing-full-price-gb\">£7,600</p>,\n",
       " <p class=\"full-pricestyles__Price-sc-12l0fhp-0 kZsXtM\" data-test-id=\"card-pricing-full-price-gb\">£7,600</p>,\n",
       " <p class=\"full-pricestyles__Price-sc-12l0fhp-0 kZsXtM\" data-test-id=\"card-pricing-full-price-gb\">£7,650</p>,\n",
       " <p class=\"full-pricestyles__Price-sc-12l0fhp-0 kZsXtM\" data-test-id=\"card-pricing-full-price-gb\">£7,650</p>,\n",
       " <p class=\"full-pricestyles__Price-sc-12l0fhp-0 kZsXtM\" data-test-id=\"card-pricing-full-price-gb\">£7,650</p>,\n",
       " <p class=\"full-pricestyles__Price-sc-12l0fhp-0 kZsXtM\" data-test-id=\"card-pricing-full-price-gb\">£7,700</p>,\n",
       " <p class=\"full-pricestyles__Price-sc-12l0fhp-0 kZsXtM\" data-test-id=\"card-pricing-full-price-gb\">£7,700</p>,\n",
       " <p class=\"full-pricestyles__Price-sc-12l0fhp-0 kZsXtM\" data-test-id=\"card-pricing-full-price-gb\">£7,750</p>,\n",
       " <p class=\"full-pricestyles__Price-sc-12l0fhp-0 kZsXtM\" data-test-id=\"card-pricing-full-price-gb\">£7,750</p>,\n",
       " <p class=\"full-pricestyles__Price-sc-12l0fhp-0 kZsXtM\" data-test-id=\"card-pricing-full-price-gb\">£7,750</p>,\n",
       " <p class=\"full-pricestyles__Price-sc-12l0fhp-0 kZsXtM\" data-test-id=\"card-pricing-full-price-gb\">£7,750</p>,\n",
       " <p class=\"full-pricestyles__Price-sc-12l0fhp-0 kZsXtM\" data-test-id=\"card-pricing-full-price-gb\">£7,750</p>,\n",
       " <p class=\"full-pricestyles__Price-sc-12l0fhp-0 kZsXtM\" data-test-id=\"card-pricing-full-price-gb\">£7,800</p>,\n",
       " <p class=\"full-pricestyles__Price-sc-12l0fhp-0 kZsXtM\" data-test-id=\"card-pricing-full-price-gb\">£7,800</p>,\n",
       " <p class=\"full-pricestyles__Price-sc-12l0fhp-0 kZsXtM\" data-test-id=\"card-pricing-full-price-gb\">£7,800</p>,\n",
       " <p class=\"full-pricestyles__Price-sc-12l0fhp-0 kZsXtM\" data-test-id=\"card-pricing-full-price-gb\">£7,850</p>,\n",
       " <p class=\"full-pricestyles__Price-sc-12l0fhp-0 kZsXtM\" data-test-id=\"card-pricing-full-price-gb\">£7,850</p>,\n",
       " <p class=\"full-pricestyles__Price-sc-12l0fhp-0 kZsXtM\" data-test-id=\"card-pricing-full-price-gb\">£7,850</p>,\n",
       " <p class=\"full-pricestyles__Price-sc-12l0fhp-0 kZsXtM\" data-test-id=\"card-pricing-full-price-gb\">£7,850</p>,\n",
       " <p class=\"full-pricestyles__Price-sc-12l0fhp-0 kZsXtM\" data-test-id=\"card-pricing-full-price-gb\">£7,900</p>,\n",
       " <p class=\"full-pricestyles__Price-sc-12l0fhp-0 kZsXtM\" data-test-id=\"card-pricing-full-price-gb\">£7,900</p>,\n",
       " <p class=\"full-pricestyles__Price-sc-12l0fhp-0 kZsXtM\" data-test-id=\"card-pricing-full-price-gb\">£7,950</p>,\n",
       " <p class=\"full-pricestyles__Price-sc-12l0fhp-0 kZsXtM\" data-test-id=\"card-pricing-full-price-gb\">£7,950</p>,\n",
       " <p class=\"full-pricestyles__Price-sc-12l0fhp-0 kZsXtM\" data-test-id=\"card-pricing-full-price-gb\">£7,950</p>,\n",
       " <p class=\"full-pricestyles__Price-sc-12l0fhp-0 kZsXtM\" data-test-id=\"card-pricing-full-price-gb\">£7,950</p>,\n",
       " <p class=\"full-pricestyles__Price-sc-12l0fhp-0 kZsXtM\" data-test-id=\"card-pricing-full-price-gb\">£7,950</p>,\n",
       " <p class=\"full-pricestyles__Price-sc-12l0fhp-0 kZsXtM\" data-test-id=\"card-pricing-full-price-gb\">£8,000</p>,\n",
       " <p class=\"full-pricestyles__Price-sc-12l0fhp-0 kZsXtM\" data-test-id=\"card-pricing-full-price-gb\">£8,000</p>]"
      ]
     },
     "execution_count": 9,
     "metadata": {},
     "output_type": "execute_result"
    }
   ],
   "source": [
    "soup = BeautifulSoup(response.text)\n",
    "soup.find_all('p', class_=\"full-pricestyles__Price-sc-12l0fhp-0 kZsXtM\")"
   ]
  },
  {
   "cell_type": "markdown",
   "id": "eefcc52d",
   "metadata": {},
   "source": []
  }
 ],
 "metadata": {
  "kernelspec": {
   "display_name": "Python 3 (ipykernel)",
   "language": "python",
   "name": "python3"
  },
  "language_info": {
   "codemirror_mode": {
    "name": "ipython",
    "version": 3
   },
   "file_extension": ".py",
   "mimetype": "text/x-python",
   "name": "python",
   "nbconvert_exporter": "python",
   "pygments_lexer": "ipython3",
   "version": "3.9.12"
  }
 },
 "nbformat": 4,
 "nbformat_minor": 5
}
