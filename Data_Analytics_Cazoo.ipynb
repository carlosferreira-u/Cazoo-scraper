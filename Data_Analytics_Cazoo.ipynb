{
 "cells": [
  {
   "cell_type": "code",
   "execution_count": null,
   "id": "9d63f3da",
   "metadata": {},
   "outputs": [],
   "source": [
    "!pip3 install selenium\n",
    "!pip3 install webdriver-manager\n",
    "!pip3 install requests\n",
    "!pip3 install matplotlib\n",
    "!pip3 install numpy\n",
    "!pip3 install pandas"
   ]
  },
  {
   "cell_type": "code",
   "execution_count": 3,
   "id": "e72633a5",
   "metadata": {},
   "outputs": [],
   "source": [
    "# Import libraries\n",
    "import calendar\n",
    "import time\n",
    "import requests\n",
    "import pandas as pd\n",
    "import numpy as np\n",
    "import matplotlib.pyplot as plt\n",
    "from bs4 import BeautifulSoup\n",
    "from selenium import webdriver\n",
    "from selenium.webdriver.common.by import By"
   ]
  },
  {
   "cell_type": "code",
   "execution_count": null,
   "id": "deaeb8da",
   "metadata": {},
   "outputs": [],
   "source": [
    "# Define base url\n",
    "base_url = \"https://www.cazoo.co.uk\""
   ]
  },
  {
   "cell_type": "code",
   "execution_count": null,
   "id": "d97f28df",
   "metadata": {},
   "outputs": [],
   "source": [
    "# Create Pandas Dataframe\n",
    "vehicle_df = pd.DataFrame(columns=['Make', 'Model', 'Price (£)', 'Milage', 'Registration Year', 'Registration Month', 'Gearbox', 'Fuel Type', 'N of Owners'])"
   ]
  },
  {
   "cell_type": "code",
   "execution_count": null,
   "id": "aad73c31",
   "metadata": {},
   "outputs": [],
   "source": [
    "# Get response code\n",
    "response = requests.get(base_url)\n",
    "print(\"Response code: \", response.status_code)"
   ]
  },
  {
   "cell_type": "code",
   "execution_count": null,
   "id": "65aa3284",
   "metadata": {},
   "outputs": [],
   "source": [
    "# Create page counter\n",
    "page_no = 1"
   ]
  },
  {
   "cell_type": "code",
   "execution_count": null,
   "id": "a3eacd63",
   "metadata": {},
   "outputs": [],
   "source": [
    "# Loop for pages\n",
    "for page in range(155):\n",
    "\n",
    "    # Define url\n",
    "    page_no = page\n",
    "    listings_url = f\"https://www.cazoo.co.uk/cars/?page={page_no}\"\n",
    "\n",
    "    # Get page url and parse it\n",
    "    response = requests.get(listings_url)\n",
    "    soup = BeautifulSoup(response.text, features=\"html.parser\")\n",
    "    \n",
    "    # Find listings\n",
    "    listings = soup.find_all(class_='vehicle-cardstyles__InfoWrap-sc-1bxv5iu-2 laxUtI')\n",
    "\n",
    "    # Listing counter\n",
    "    listing_count = 1\n",
    "\n",
    "    # Print status\n",
    "    print(f\"Scraping from page {page_no}...\")\n",
    "\n",
    "    # Get a tags (urls) for each listing\n",
    "    for listing in listings:\n",
    "\n",
    "        # Print listing number\n",
    "        print(f\"listing {listing_count}...\")\n",
    "\n",
    "        # Find 'a' tags containing the URLs to each listing\n",
    "        a_tags = listing.find_all('a')\n",
    "\n",
    "        # In each url scrape the data\n",
    "        for car_url in a_tags:\n",
    "\n",
    "            # Parse html\n",
    "            response = requests.get(base_url + car_url['href'])\n",
    "            soup = BeautifulSoup(response.content, features='html.parser')\n",
    "\n",
    "            # Get make and model\n",
    "            try:\n",
    "                make_model = soup.find('h1', class_='sc-yrk414-0 Abyeg').text.strip()\n",
    "                make, model = make_model.split(' ', 1)\n",
    "            except:\n",
    "                make, model = \"n/a\"\n",
    "\n",
    "            # Get price\n",
    "            try:\n",
    "                driver = webdriver.Chrome()\n",
    "                driver.get(base_url + car_url['href'])\n",
    "                time.sleep(1)\n",
    "                price = driver.find_element(By.CSS_SELECTOR, \"div.md\\:px-l:nth-child(3) > p:nth-child(1) > small:nth-child(1) > small:nth-child(2) > strong:nth-child(1)\").text\n",
    "                price = int(price[1:].replace(',', ''))\n",
    "            except:\n",
    "                price = \"n/a\"\n",
    "\n",
    "            # Get mileage\n",
    "            try:\n",
    "                mileage = int(soup.find_all('li', class_=\"sc-1qzxxja-0 sc-17oqk9n-0 cMysQa etVBLA\")[0].text.strip().replace(' miles','').replace(',',''))\n",
    "            except:\n",
    "                mileage = \"n/a\"\n",
    "\n",
    "            # Get registration year\n",
    "            try:\n",
    "                reg_year = soup.find_all('li', class_=\"sc-1qzxxja-0 sc-17oqk9n-0 cMysQa etVBLA\")[1].text.strip()\n",
    "                reg_year = int(reg_year[-4:])\n",
    "            except:\n",
    "                reg_year = \"n/a\"\n",
    "\n",
    "            # Get registration month\n",
    "            try:\n",
    "                reg_month = soup.find_all('li', class_=\"sc-1qzxxja-0 sc-17oqk9n-0 cMysQa etVBLA\")[1].text.strip()\n",
    "                reg_month = reg_month[:3]\n",
    "                reg_month = int(list(calendar.month_abbr).index(reg_month))\n",
    "            except:\n",
    "                reg_month = \"n/a\"\n",
    "\n",
    "            # Get gearbox\n",
    "            try:\n",
    "                gearbox = soup.find_all('li', class_=\"sc-1qzxxja-0 sc-17oqk9n-0 cMysQa etVBLA\")[2].text.strip()\n",
    "            except:\n",
    "                gearbox = \"n/a\"\n",
    "\n",
    "            # Get fuel type\n",
    "            try:\n",
    "                fuel_type = soup.find_all('li', class_=\"sc-1qzxxja-0 sc-17oqk9n-0 cMysQa etVBLA\")[3].text.strip()\n",
    "            except:\n",
    "                fuel_type = \"n/a\"\n",
    "\n",
    "            # Get number of owners\n",
    "            try:\n",
    "                number_of_owners = soup.select(\"dl.divide-y:nth-child(2) > div:nth-child(3) > dd:nth-child(2)\")[0]\n",
    "                number_of_owners = int(number_of_owners.text)\n",
    "            except:\n",
    "                number_of_owners = \"n/a\"\n",
    "\n",
    "            # Create row\n",
    "            row = pd.Series({'Make': make,\n",
    "                             'Model': model,\n",
    "                             'Price (£)': price,\n",
    "                             'Milage': mileage,\n",
    "                             'Registration Year': reg_year,\n",
    "                             'Registration Month': reg_month,\n",
    "                             'Gearbox': gearbox,\n",
    "                             'Fuel Type': fuel_type,\n",
    "                             'N of Owners': number_of_owners\n",
    "                            })\n",
    "\n",
    "            # Add row to pandas data frame\n",
    "            vehicle_df.loc[len(vehicle_df)] = row\n",
    "        \n",
    "        # There are 47 listings per page. Break inner loop when 47 is reached\n",
    "        listing_count += 1\n",
    "        if listing_count > 47:\n",
    "            break\n",
    "\n",
    "    # Go to next page\n",
    "    page_no += 1"
   ]
  },
  {
   "cell_type": "code",
   "execution_count": null,
   "id": "88a0c1bc",
   "metadata": {},
   "outputs": [],
   "source": [
    "# Save to csv\n",
    "vehicle_df.to_csv(\"cazoo_used_cars_dataset.csv\")"
   ]
  },
  {
   "cell_type": "code",
   "execution_count": 22,
   "id": "71e45798",
   "metadata": {},
   "outputs": [
    {
     "data": {
      "text/html": [
       "<div>\n",
       "<style scoped>\n",
       "    .dataframe tbody tr th:only-of-type {\n",
       "        vertical-align: middle;\n",
       "    }\n",
       "\n",
       "    .dataframe tbody tr th {\n",
       "        vertical-align: top;\n",
       "    }\n",
       "\n",
       "    .dataframe thead th {\n",
       "        text-align: right;\n",
       "    }\n",
       "</style>\n",
       "<table border=\"1\" class=\"dataframe\">\n",
       "  <thead>\n",
       "    <tr style=\"text-align: right;\">\n",
       "      <th></th>\n",
       "      <th>Unnamed: 0</th>\n",
       "      <th>Make</th>\n",
       "      <th>Model</th>\n",
       "      <th>Price (£)</th>\n",
       "      <th>Milage</th>\n",
       "      <th>Registration Year</th>\n",
       "      <th>Registration Month</th>\n",
       "      <th>Gearbox</th>\n",
       "      <th>Fuel Type</th>\n",
       "      <th>N of Owners</th>\n",
       "    </tr>\n",
       "  </thead>\n",
       "  <tbody>\n",
       "    <tr>\n",
       "      <th>0</th>\n",
       "      <td>0</td>\n",
       "      <td>Ford</td>\n",
       "      <td>Ka</td>\n",
       "      <td>6350.0</td>\n",
       "      <td>56530.0</td>\n",
       "      <td>2016.0</td>\n",
       "      <td>4.0</td>\n",
       "      <td>Manual</td>\n",
       "      <td>Petrol</td>\n",
       "      <td>3.0</td>\n",
       "    </tr>\n",
       "    <tr>\n",
       "      <th>1</th>\n",
       "      <td>1</td>\n",
       "      <td>Citroen</td>\n",
       "      <td>C4</td>\n",
       "      <td>6750.0</td>\n",
       "      <td>50727.0</td>\n",
       "      <td>2015.0</td>\n",
       "      <td>9.0</td>\n",
       "      <td>Manual</td>\n",
       "      <td>Petrol</td>\n",
       "      <td>1.0</td>\n",
       "    </tr>\n",
       "    <tr>\n",
       "      <th>2</th>\n",
       "      <td>2</td>\n",
       "      <td>Suzuki</td>\n",
       "      <td>Celerio</td>\n",
       "      <td>6800.0</td>\n",
       "      <td>23190.0</td>\n",
       "      <td>2017.0</td>\n",
       "      <td>3.0</td>\n",
       "      <td>Manual</td>\n",
       "      <td>Petrol</td>\n",
       "      <td>3.0</td>\n",
       "    </tr>\n",
       "    <tr>\n",
       "      <th>3</th>\n",
       "      <td>3</td>\n",
       "      <td>Dacia</td>\n",
       "      <td>Sandero</td>\n",
       "      <td>NaN</td>\n",
       "      <td>10837.0</td>\n",
       "      <td>2016.0</td>\n",
       "      <td>5.0</td>\n",
       "      <td>Manual</td>\n",
       "      <td>Petrol</td>\n",
       "      <td>1.0</td>\n",
       "    </tr>\n",
       "    <tr>\n",
       "      <th>4</th>\n",
       "      <td>4</td>\n",
       "      <td>Suzuki</td>\n",
       "      <td>Celerio</td>\n",
       "      <td>7000.0</td>\n",
       "      <td>23778.0</td>\n",
       "      <td>2016.0</td>\n",
       "      <td>3.0</td>\n",
       "      <td>Manual</td>\n",
       "      <td>Petrol</td>\n",
       "      <td>1.0</td>\n",
       "    </tr>\n",
       "    <tr>\n",
       "      <th>...</th>\n",
       "      <td>...</td>\n",
       "      <td>...</td>\n",
       "      <td>...</td>\n",
       "      <td>...</td>\n",
       "      <td>...</td>\n",
       "      <td>...</td>\n",
       "      <td>...</td>\n",
       "      <td>...</td>\n",
       "      <td>...</td>\n",
       "      <td>...</td>\n",
       "    </tr>\n",
       "    <tr>\n",
       "      <th>5587</th>\n",
       "      <td>5587</td>\n",
       "      <td>Mini</td>\n",
       "      <td>Hatch</td>\n",
       "      <td>22200.0</td>\n",
       "      <td>17998.0</td>\n",
       "      <td>2019.0</td>\n",
       "      <td>8.0</td>\n",
       "      <td>Automatic</td>\n",
       "      <td>Petrol</td>\n",
       "      <td>1.0</td>\n",
       "    </tr>\n",
       "    <tr>\n",
       "      <th>5588</th>\n",
       "      <td>5588</td>\n",
       "      <td>BMW</td>\n",
       "      <td>X3</td>\n",
       "      <td>22250.0</td>\n",
       "      <td>57467.0</td>\n",
       "      <td>2017.0</td>\n",
       "      <td>9.0</td>\n",
       "      <td>Automatic</td>\n",
       "      <td>Diesel</td>\n",
       "      <td>3.0</td>\n",
       "    </tr>\n",
       "    <tr>\n",
       "      <th>5589</th>\n",
       "      <td>5589</td>\n",
       "      <td>MG</td>\n",
       "      <td>MG ZS</td>\n",
       "      <td>22250.0</td>\n",
       "      <td>22096.0</td>\n",
       "      <td>2020.0</td>\n",
       "      <td>10.0</td>\n",
       "      <td>Automatic</td>\n",
       "      <td>Electric</td>\n",
       "      <td>NaN</td>\n",
       "    </tr>\n",
       "    <tr>\n",
       "      <th>5590</th>\n",
       "      <td>5590</td>\n",
       "      <td>Toyota</td>\n",
       "      <td>C-HR</td>\n",
       "      <td>22250.0</td>\n",
       "      <td>9564.0</td>\n",
       "      <td>2019.0</td>\n",
       "      <td>3.0</td>\n",
       "      <td>Automatic</td>\n",
       "      <td>Hybrid</td>\n",
       "      <td>NaN</td>\n",
       "    </tr>\n",
       "    <tr>\n",
       "      <th>5591</th>\n",
       "      <td>5591</td>\n",
       "      <td>Volkswagen</td>\n",
       "      <td>Golf</td>\n",
       "      <td>22250.0</td>\n",
       "      <td>40086.0</td>\n",
       "      <td>2019.0</td>\n",
       "      <td>6.0</td>\n",
       "      <td>Manual</td>\n",
       "      <td>Petrol</td>\n",
       "      <td>1.0</td>\n",
       "    </tr>\n",
       "  </tbody>\n",
       "</table>\n",
       "<p>5592 rows × 10 columns</p>\n",
       "</div>"
      ],
      "text/plain": [
       "      Unnamed: 0        Make    Model  Price (£)   Milage  Registration Year  \\\n",
       "0              0        Ford       Ka     6350.0  56530.0             2016.0   \n",
       "1              1     Citroen       C4     6750.0  50727.0             2015.0   \n",
       "2              2      Suzuki  Celerio     6800.0  23190.0             2017.0   \n",
       "3              3       Dacia  Sandero        NaN  10837.0             2016.0   \n",
       "4              4      Suzuki  Celerio     7000.0  23778.0             2016.0   \n",
       "...          ...         ...      ...        ...      ...                ...   \n",
       "5587        5587        Mini    Hatch    22200.0  17998.0             2019.0   \n",
       "5588        5588         BMW       X3    22250.0  57467.0             2017.0   \n",
       "5589        5589          MG    MG ZS    22250.0  22096.0             2020.0   \n",
       "5590        5590      Toyota     C-HR    22250.0   9564.0             2019.0   \n",
       "5591        5591  Volkswagen     Golf    22250.0  40086.0             2019.0   \n",
       "\n",
       "      Registration Month    Gearbox Fuel Type  N of Owners  \n",
       "0                    4.0     Manual    Petrol          3.0  \n",
       "1                    9.0     Manual    Petrol          1.0  \n",
       "2                    3.0     Manual    Petrol          3.0  \n",
       "3                    5.0     Manual    Petrol          1.0  \n",
       "4                    3.0     Manual    Petrol          1.0  \n",
       "...                  ...        ...       ...          ...  \n",
       "5587                 8.0  Automatic    Petrol          1.0  \n",
       "5588                 9.0  Automatic    Diesel          3.0  \n",
       "5589                10.0  Automatic  Electric          NaN  \n",
       "5590                 3.0  Automatic    Hybrid          NaN  \n",
       "5591                 6.0     Manual    Petrol          1.0  \n",
       "\n",
       "[5592 rows x 10 columns]"
      ]
     },
     "execution_count": 22,
     "metadata": {},
     "output_type": "execute_result"
    }
   ],
   "source": [
    "# Read dataset\n",
    "vehicle_df = pd.read_csv(\"cazoo_used_cars_dataset.csv\")\n",
    "vehicle_df"
   ]
  },
  {
   "cell_type": "code",
   "execution_count": 23,
   "id": "61eb68f6",
   "metadata": {},
   "outputs": [
    {
     "data": {
      "text/html": [
       "<div>\n",
       "<style scoped>\n",
       "    .dataframe tbody tr th:only-of-type {\n",
       "        vertical-align: middle;\n",
       "    }\n",
       "\n",
       "    .dataframe tbody tr th {\n",
       "        vertical-align: top;\n",
       "    }\n",
       "\n",
       "    .dataframe thead th {\n",
       "        text-align: right;\n",
       "    }\n",
       "</style>\n",
       "<table border=\"1\" class=\"dataframe\">\n",
       "  <thead>\n",
       "    <tr style=\"text-align: right;\">\n",
       "      <th></th>\n",
       "      <th>Make</th>\n",
       "      <th>Model</th>\n",
       "      <th>Price (£)</th>\n",
       "      <th>Milage</th>\n",
       "      <th>Registration Year</th>\n",
       "      <th>Registration Month</th>\n",
       "      <th>Gearbox</th>\n",
       "      <th>Fuel Type</th>\n",
       "      <th>N of Owners</th>\n",
       "    </tr>\n",
       "  </thead>\n",
       "  <tbody>\n",
       "    <tr>\n",
       "      <th>0</th>\n",
       "      <td>Ford</td>\n",
       "      <td>Ka</td>\n",
       "      <td>6350.0</td>\n",
       "      <td>56530</td>\n",
       "      <td>2016</td>\n",
       "      <td>4</td>\n",
       "      <td>Manual</td>\n",
       "      <td>Petrol</td>\n",
       "      <td>3</td>\n",
       "    </tr>\n",
       "    <tr>\n",
       "      <th>1</th>\n",
       "      <td>Citroen</td>\n",
       "      <td>C4</td>\n",
       "      <td>6750.0</td>\n",
       "      <td>50727</td>\n",
       "      <td>2015</td>\n",
       "      <td>9</td>\n",
       "      <td>Manual</td>\n",
       "      <td>Petrol</td>\n",
       "      <td>1</td>\n",
       "    </tr>\n",
       "    <tr>\n",
       "      <th>2</th>\n",
       "      <td>Suzuki</td>\n",
       "      <td>Celerio</td>\n",
       "      <td>6800.0</td>\n",
       "      <td>23190</td>\n",
       "      <td>2017</td>\n",
       "      <td>3</td>\n",
       "      <td>Manual</td>\n",
       "      <td>Petrol</td>\n",
       "      <td>3</td>\n",
       "    </tr>\n",
       "    <tr>\n",
       "      <th>4</th>\n",
       "      <td>Suzuki</td>\n",
       "      <td>Celerio</td>\n",
       "      <td>7000.0</td>\n",
       "      <td>23778</td>\n",
       "      <td>2016</td>\n",
       "      <td>3</td>\n",
       "      <td>Manual</td>\n",
       "      <td>Petrol</td>\n",
       "      <td>1</td>\n",
       "    </tr>\n",
       "    <tr>\n",
       "      <th>5</th>\n",
       "      <td>Fiat</td>\n",
       "      <td>500</td>\n",
       "      <td>7000.0</td>\n",
       "      <td>41216</td>\n",
       "      <td>2015</td>\n",
       "      <td>9</td>\n",
       "      <td>Manual</td>\n",
       "      <td>Petrol</td>\n",
       "      <td>3</td>\n",
       "    </tr>\n",
       "    <tr>\n",
       "      <th>...</th>\n",
       "      <td>...</td>\n",
       "      <td>...</td>\n",
       "      <td>...</td>\n",
       "      <td>...</td>\n",
       "      <td>...</td>\n",
       "      <td>...</td>\n",
       "      <td>...</td>\n",
       "      <td>...</td>\n",
       "      <td>...</td>\n",
       "    </tr>\n",
       "    <tr>\n",
       "      <th>5585</th>\n",
       "      <td>BMW</td>\n",
       "      <td>X2</td>\n",
       "      <td>22200.0</td>\n",
       "      <td>33204</td>\n",
       "      <td>2018</td>\n",
       "      <td>9</td>\n",
       "      <td>Automatic</td>\n",
       "      <td>Diesel</td>\n",
       "      <td>3</td>\n",
       "    </tr>\n",
       "    <tr>\n",
       "      <th>5586</th>\n",
       "      <td>Jeep</td>\n",
       "      <td>Compass</td>\n",
       "      <td>22200.0</td>\n",
       "      <td>12550</td>\n",
       "      <td>2019</td>\n",
       "      <td>5</td>\n",
       "      <td>Automatic</td>\n",
       "      <td>Petrol</td>\n",
       "      <td>3</td>\n",
       "    </tr>\n",
       "    <tr>\n",
       "      <th>5587</th>\n",
       "      <td>Mini</td>\n",
       "      <td>Hatch</td>\n",
       "      <td>22200.0</td>\n",
       "      <td>17998</td>\n",
       "      <td>2019</td>\n",
       "      <td>8</td>\n",
       "      <td>Automatic</td>\n",
       "      <td>Petrol</td>\n",
       "      <td>1</td>\n",
       "    </tr>\n",
       "    <tr>\n",
       "      <th>5588</th>\n",
       "      <td>BMW</td>\n",
       "      <td>X3</td>\n",
       "      <td>22250.0</td>\n",
       "      <td>57467</td>\n",
       "      <td>2017</td>\n",
       "      <td>9</td>\n",
       "      <td>Automatic</td>\n",
       "      <td>Diesel</td>\n",
       "      <td>3</td>\n",
       "    </tr>\n",
       "    <tr>\n",
       "      <th>5591</th>\n",
       "      <td>Volkswagen</td>\n",
       "      <td>Golf</td>\n",
       "      <td>22250.0</td>\n",
       "      <td>40086</td>\n",
       "      <td>2019</td>\n",
       "      <td>6</td>\n",
       "      <td>Manual</td>\n",
       "      <td>Petrol</td>\n",
       "      <td>1</td>\n",
       "    </tr>\n",
       "  </tbody>\n",
       "</table>\n",
       "<p>5044 rows × 9 columns</p>\n",
       "</div>"
      ],
      "text/plain": [
       "            Make    Model  Price (£)  Milage  Registration Year  \\\n",
       "0           Ford       Ka     6350.0   56530               2016   \n",
       "1        Citroen       C4     6750.0   50727               2015   \n",
       "2         Suzuki  Celerio     6800.0   23190               2017   \n",
       "4         Suzuki  Celerio     7000.0   23778               2016   \n",
       "5           Fiat      500     7000.0   41216               2015   \n",
       "...          ...      ...        ...     ...                ...   \n",
       "5585         BMW       X2    22200.0   33204               2018   \n",
       "5586        Jeep  Compass    22200.0   12550               2019   \n",
       "5587        Mini    Hatch    22200.0   17998               2019   \n",
       "5588         BMW       X3    22250.0   57467               2017   \n",
       "5591  Volkswagen     Golf    22250.0   40086               2019   \n",
       "\n",
       "      Registration Month    Gearbox Fuel Type  N of Owners  \n",
       "0                      4     Manual    Petrol            3  \n",
       "1                      9     Manual    Petrol            1  \n",
       "2                      3     Manual    Petrol            3  \n",
       "4                      3     Manual    Petrol            1  \n",
       "5                      9     Manual    Petrol            3  \n",
       "...                  ...        ...       ...          ...  \n",
       "5585                   9  Automatic    Diesel            3  \n",
       "5586                   5  Automatic    Petrol            3  \n",
       "5587                   8  Automatic    Petrol            1  \n",
       "5588                   9  Automatic    Diesel            3  \n",
       "5591                   6     Manual    Petrol            1  \n",
       "\n",
       "[5044 rows x 9 columns]"
      ]
     },
     "execution_count": 23,
     "metadata": {},
     "output_type": "execute_result"
    }
   ],
   "source": [
    "# Drop rows with 'n/a' & convert to integers\n",
    "vehicle_df.dropna(inplace=True)\n",
    "vehicle_df.drop(columns=[\"Unnamed: 0\"], inplace=True)\n",
    "columns_to_integers = ['Milage', 'Registration Year', 'Registration Month', 'N of Owners']\n",
    "vehicle_df[columns_to_integers] = vehicle_df[columns_to_integers].astype(int)\n",
    "vehicle_df"
   ]
  },
  {
   "cell_type": "code",
   "execution_count": 24,
   "id": "fdc94dc8",
   "metadata": {},
   "outputs": [
    {
     "name": "stdout",
     "output_type": "stream",
     "text": [
      "<class 'pandas.core.frame.DataFrame'>\n",
      "Int64Index: 5044 entries, 0 to 5591\n",
      "Data columns (total 9 columns):\n",
      " #   Column              Non-Null Count  Dtype  \n",
      "---  ------              --------------  -----  \n",
      " 0   Make                5044 non-null   object \n",
      " 1   Model               5044 non-null   object \n",
      " 2   Price (£)           5044 non-null   float64\n",
      " 3   Milage              5044 non-null   int64  \n",
      " 4   Registration Year   5044 non-null   int64  \n",
      " 5   Registration Month  5044 non-null   int64  \n",
      " 6   Gearbox             5044 non-null   object \n",
      " 7   Fuel Type           5044 non-null   object \n",
      " 8   N of Owners         5044 non-null   int64  \n",
      "dtypes: float64(1), int64(4), object(4)\n",
      "memory usage: 394.1+ KB\n"
     ]
    }
   ],
   "source": [
    "# Data Frame information\n",
    "vehicle_df.info()"
   ]
  },
  {
   "cell_type": "code",
   "execution_count": 25,
   "id": "e26cf705",
   "metadata": {},
   "outputs": [
    {
     "data": {
      "text/html": [
       "<div>\n",
       "<style scoped>\n",
       "    .dataframe tbody tr th:only-of-type {\n",
       "        vertical-align: middle;\n",
       "    }\n",
       "\n",
       "    .dataframe tbody tr th {\n",
       "        vertical-align: top;\n",
       "    }\n",
       "\n",
       "    .dataframe thead th {\n",
       "        text-align: right;\n",
       "    }\n",
       "</style>\n",
       "<table border=\"1\" class=\"dataframe\">\n",
       "  <thead>\n",
       "    <tr style=\"text-align: right;\">\n",
       "      <th></th>\n",
       "      <th>Price (£)</th>\n",
       "      <th>Milage</th>\n",
       "      <th>Registration Year</th>\n",
       "      <th>Registration Month</th>\n",
       "      <th>N of Owners</th>\n",
       "    </tr>\n",
       "  </thead>\n",
       "  <tbody>\n",
       "    <tr>\n",
       "      <th>count</th>\n",
       "      <td>5044.000000</td>\n",
       "      <td>5044.000000</td>\n",
       "      <td>5044.000000</td>\n",
       "      <td>5044.000000</td>\n",
       "      <td>5044.000000</td>\n",
       "    </tr>\n",
       "    <tr>\n",
       "      <th>mean</th>\n",
       "      <td>15306.701031</td>\n",
       "      <td>28780.654044</td>\n",
       "      <td>2018.340008</td>\n",
       "      <td>6.564631</td>\n",
       "      <td>1.697264</td>\n",
       "    </tr>\n",
       "    <tr>\n",
       "      <th>std</th>\n",
       "      <td>3565.646188</td>\n",
       "      <td>16693.041952</td>\n",
       "      <td>1.460423</td>\n",
       "      <td>3.308272</td>\n",
       "      <td>0.873375</td>\n",
       "    </tr>\n",
       "    <tr>\n",
       "      <th>min</th>\n",
       "      <td>6350.000000</td>\n",
       "      <td>2.000000</td>\n",
       "      <td>2014.000000</td>\n",
       "      <td>1.000000</td>\n",
       "      <td>1.000000</td>\n",
       "    </tr>\n",
       "    <tr>\n",
       "      <th>25%</th>\n",
       "      <td>12550.000000</td>\n",
       "      <td>16070.750000</td>\n",
       "      <td>2017.000000</td>\n",
       "      <td>3.000000</td>\n",
       "      <td>1.000000</td>\n",
       "    </tr>\n",
       "    <tr>\n",
       "      <th>50%</th>\n",
       "      <td>15150.000000</td>\n",
       "      <td>26315.500000</td>\n",
       "      <td>2019.000000</td>\n",
       "      <td>6.000000</td>\n",
       "      <td>1.000000</td>\n",
       "    </tr>\n",
       "    <tr>\n",
       "      <th>75%</th>\n",
       "      <td>18000.000000</td>\n",
       "      <td>38944.750000</td>\n",
       "      <td>2019.000000</td>\n",
       "      <td>9.000000</td>\n",
       "      <td>2.000000</td>\n",
       "    </tr>\n",
       "    <tr>\n",
       "      <th>max</th>\n",
       "      <td>22250.000000</td>\n",
       "      <td>98705.000000</td>\n",
       "      <td>2022.000000</td>\n",
       "      <td>12.000000</td>\n",
       "      <td>8.000000</td>\n",
       "    </tr>\n",
       "  </tbody>\n",
       "</table>\n",
       "</div>"
      ],
      "text/plain": [
       "          Price (£)        Milage  Registration Year  Registration Month  \\\n",
       "count   5044.000000   5044.000000        5044.000000         5044.000000   \n",
       "mean   15306.701031  28780.654044        2018.340008            6.564631   \n",
       "std     3565.646188  16693.041952           1.460423            3.308272   \n",
       "min     6350.000000      2.000000        2014.000000            1.000000   \n",
       "25%    12550.000000  16070.750000        2017.000000            3.000000   \n",
       "50%    15150.000000  26315.500000        2019.000000            6.000000   \n",
       "75%    18000.000000  38944.750000        2019.000000            9.000000   \n",
       "max    22250.000000  98705.000000        2022.000000           12.000000   \n",
       "\n",
       "       N of Owners  \n",
       "count  5044.000000  \n",
       "mean      1.697264  \n",
       "std       0.873375  \n",
       "min       1.000000  \n",
       "25%       1.000000  \n",
       "50%       1.000000  \n",
       "75%       2.000000  \n",
       "max       8.000000  "
      ]
     },
     "execution_count": 25,
     "metadata": {},
     "output_type": "execute_result"
    }
   ],
   "source": [
    "# Data Frame overview\n",
    "vehicle_df.describe()"
   ]
  },
  {
   "cell_type": "code",
   "execution_count": 26,
   "id": "3cb20202",
   "metadata": {},
   "outputs": [
    {
     "data": {
      "text/plain": [
       "2022     102\n",
       "2021     225\n",
       "2020     516\n",
       "2019    1688\n",
       "2018    1206\n",
       "2017     661\n",
       "2016     516\n",
       "2015     125\n",
       "2014       5\n",
       "Name: Registration Year, dtype: int64"
      ]
     },
     "execution_count": 26,
     "metadata": {},
     "output_type": "execute_result"
    }
   ],
   "source": [
    "# Stock by registration year \n",
    "registration_year_count = vehicle_df['Registration Year'].value_counts().sort_index(ascending=False)\n",
    "registration_year_count"
   ]
  },
  {
   "cell_type": "code",
   "execution_count": 27,
   "id": "ac9ff6cd",
   "metadata": {},
   "outputs": [
    {
     "data": {
      "text/plain": [
       "Make\n",
       "Lexus            21700.00\n",
       "Land             19915.52\n",
       "Mercedes-Benz    19349.81\n",
       "Jaguar           18578.57\n",
       "BMW              18448.17\n",
       "Audi             18185.02\n",
       "Alfa             18050.00\n",
       "Subaru           17925.00\n",
       "Volvo            17438.04\n",
       "Mitsubishi       16784.21\n",
       "Name: Price (£), dtype: float64"
      ]
     },
     "execution_count": 27,
     "metadata": {},
     "output_type": "execute_result"
    }
   ],
   "source": [
    "# Top 10 makes in stock by average price\n",
    "brand_averages = vehicle_df.groupby('Make')['Price (£)'].mean()\n",
    "top_10_brands_by_average_price = brand_averages.sort_values(ascending=False).head(10)\n",
    "top_10_brands_by_average_price = round(top_10_brands_by_average_price, 2)\n",
    "top_10_brands_by_average_price"
   ]
  },
  {
   "cell_type": "code",
   "execution_count": 28,
   "id": "cdaedbf5",
   "metadata": {},
   "outputs": [
    {
     "data": {
      "image/png": "[encoded data removed]",
      "text/plain": [
       "<Figure size 432x288 with 1 Axes>"
      ]
     },
     "metadata": {
      "needs_background": "light"
     },
     "output_type": "display_data"
    }
   ],
   "source": [
    "# Bar chart top 10 makes in stock\n",
    "barchart = top_10_brands_by_average_price.plot.bar(x=\"Brands\", y=\"Price (£)\", cmap=\"winter\", title=\"Top 10 Makes by Avg. Price (£)\")"
   ]
  },
  {
   "cell_type": "code",
   "execution_count": 29,
   "id": "55511a09",
   "metadata": {},
   "outputs": [
    {
     "data": {
      "image/png": "[encoded data removed]",
      "text/plain": [
       "<Figure size 432x288 with 1 Axes>"
      ]
     },
     "metadata": {
      "needs_background": "light"
     },
     "output_type": "display_data"
    }
   ],
   "source": [
    "# Bottom 10 makes in stock by average price\n",
    "bottom_10_brands_by_average_price = brand_averages.sort_values(ascending=True).head(10)\n",
    "\n",
    "# Bar chart bottom 10 makes in stock\n",
    "barchart = bottom_10_brands_by_average_price.plot.bar(x=\"Make\", y=\"Average Price (£)\", cmap=\"Wistia\", title=\"Bottom 10 Makes by Avg. Price (£)\")"
   ]
  },
  {
   "cell_type": "code",
   "execution_count": 30,
   "id": "70852456",
   "metadata": {},
   "outputs": [
    {
     "data": {
      "text/plain": [
       "Model\n",
       "Prius+                 22000.0\n",
       "F-PACE                 21950.0\n",
       "NX 300h                21700.0\n",
       "A5 Cabriolet           21700.0\n",
       "Kodiaq                 21650.0\n",
       "GLC Class              21500.0\n",
       "CX-30                  21400.0\n",
       "Arteon                 21360.0\n",
       "XC40                   21250.0\n",
       "2 Series Gran Coupe    21200.0\n",
       "Name: Price (£), dtype: float64"
      ]
     },
     "execution_count": 30,
     "metadata": {},
     "output_type": "execute_result"
    }
   ],
   "source": [
    "# Top 10 models in stock by average price\n",
    "model_averages = vehicle_df.groupby('Model')['Price (£)'].mean()\n",
    "top_10_models_by_average_price = model_averages.sort_values(ascending=False).head(10)\n",
    "top_10_models_by_average_price"
   ]
  },
  {
   "cell_type": "code",
   "execution_count": 31,
   "id": "2bfc0b3b",
   "metadata": {},
   "outputs": [
    {
     "data": {
      "image/png": "[encoded data removed]",
      "text/plain": [
       "<Figure size 432x288 with 1 Axes>"
      ]
     },
     "metadata": {
      "needs_background": "light"
     },
     "output_type": "display_data"
    }
   ],
   "source": [
    "# Bar chart top 10 models in stock\n",
    "barchart = top_10_models_by_average_price.plot.bar(x=\"Models\", y=\"Price (£)\", cmap=\"winter\", title=\"Top 10 Models by Avg. Price (£)\")"
   ]
  },
  {
   "cell_type": "code",
   "execution_count": 32,
   "id": "6ff9cac7",
   "metadata": {},
   "outputs": [
    {
     "data": {
      "image/png": "[encoded data removed]",
      "text/plain": [
       "<Figure size 432x288 with 1 Axes>"
      ]
     },
     "metadata": {
      "needs_background": "light"
     },
     "output_type": "display_data"
    }
   ],
   "source": [
    "# Bottom 10 models in stock by average price\n",
    "bottom_10_models_by_average_price = model_averages.sort_values(ascending=True).head(10)\n",
    "\n",
    "# Bar chart bottom 10 makes in stock\n",
    "barchart = bottom_10_models_by_average_price.plot.bar(x=\"Make\", y=\"Average Price (£)\", cmap=\"Wistia\", title=\"Bottom 10 Models by Avg. Price (£)\")"
   ]
  },
  {
   "cell_type": "code",
   "execution_count": 33,
   "id": "f456a860",
   "metadata": {},
   "outputs": [
    {
     "data": {
      "text/html": [
       "<div>\n",
       "<style scoped>\n",
       "    .dataframe tbody tr th:only-of-type {\n",
       "        vertical-align: middle;\n",
       "    }\n",
       "\n",
       "    .dataframe tbody tr th {\n",
       "        vertical-align: top;\n",
       "    }\n",
       "\n",
       "    .dataframe thead th {\n",
       "        text-align: right;\n",
       "    }\n",
       "</style>\n",
       "<table border=\"1\" class=\"dataframe\">\n",
       "  <thead>\n",
       "    <tr style=\"text-align: right;\">\n",
       "      <th></th>\n",
       "      <th>Price (£)</th>\n",
       "    </tr>\n",
       "    <tr>\n",
       "      <th>Registration Year</th>\n",
       "      <th></th>\n",
       "    </tr>\n",
       "  </thead>\n",
       "  <tbody>\n",
       "    <tr>\n",
       "      <th>2022</th>\n",
       "      <td>17802.45</td>\n",
       "    </tr>\n",
       "    <tr>\n",
       "      <th>2021</th>\n",
       "      <td>16386.00</td>\n",
       "    </tr>\n",
       "    <tr>\n",
       "      <th>2020</th>\n",
       "      <td>15835.37</td>\n",
       "    </tr>\n",
       "    <tr>\n",
       "      <th>2019</th>\n",
       "      <td>15818.19</td>\n",
       "    </tr>\n",
       "    <tr>\n",
       "      <th>2018</th>\n",
       "      <td>15367.45</td>\n",
       "    </tr>\n",
       "    <tr>\n",
       "      <th>2017</th>\n",
       "      <td>14739.33</td>\n",
       "    </tr>\n",
       "    <tr>\n",
       "      <th>2016</th>\n",
       "      <td>13331.30</td>\n",
       "    </tr>\n",
       "    <tr>\n",
       "      <th>2015</th>\n",
       "      <td>12983.60</td>\n",
       "    </tr>\n",
       "    <tr>\n",
       "      <th>2014</th>\n",
       "      <td>10880.00</td>\n",
       "    </tr>\n",
       "  </tbody>\n",
       "</table>\n",
       "</div>"
      ],
      "text/plain": [
       "                   Price (£)\n",
       "Registration Year           \n",
       "2022                17802.45\n",
       "2021                16386.00\n",
       "2020                15835.37\n",
       "2019                15818.19\n",
       "2018                15367.45\n",
       "2017                14739.33\n",
       "2016                13331.30\n",
       "2015                12983.60\n",
       "2014                10880.00"
      ]
     },
     "execution_count": 33,
     "metadata": {},
     "output_type": "execute_result"
    }
   ],
   "source": [
    "# Relationship between registration year and resale price\n",
    "year_averages = vehicle_df.groupby('Registration Year')['Price (£)'].mean().sort_index(ascending=False)\n",
    "year_averages_df = round(pd.DataFrame(year_averages),2)\n",
    "year_averages_df"
   ]
  },
  {
   "cell_type": "code",
   "execution_count": 34,
   "id": "9a5d3cec",
   "metadata": {},
   "outputs": [
    {
     "data": {
      "text/plain": [
       "Text(0, 0.5, 'Avg Price (£)')"
      ]
     },
     "execution_count": 34,
     "metadata": {},
     "output_type": "execute_result"
    },
    {
     "data": {
      "image/png": "[encoded data removed]",
      "text/plain": [
       "<Figure size 432x288 with 1 Axes>"
      ]
     },
     "metadata": {
      "needs_background": "light"
     },
     "output_type": "display_data"
    }
   ],
   "source": [
    "# Line graph - Registration year vs price\n",
    "registration_years = year_averages_df.index.tolist()\n",
    "prices_per_year = year_averages_df.iloc[:,0].tolist()\n",
    "\n",
    "plt.plot(registration_years, prices_per_year, label=\"Price (£)\")\n",
    "plt.title(\"Average Price per Registration Year\")\n",
    "plt.xlabel(\"Reg Year\")\n",
    "plt.ylabel(\"Avg Price (£)\")"
   ]
  },
  {
   "cell_type": "code",
   "execution_count": 38,
   "id": "dc818e29",
   "metadata": {},
   "outputs": [
    {
     "data": {
      "text/plain": [
       "([<matplotlib.patches.Wedge at 0x7f3bfad12400>,\n",
       "  <matplotlib.patches.Wedge at 0x7f3bfad81d30>,\n",
       "  <matplotlib.patches.Wedge at 0x7f3bfad81eb0>],\n",
       " [Text(-0.1734161160785025, 1.0862443788965022, 'Alternative'),\n",
       "  Text(-0.9616901984400528, 0.5339962192977888, 'Diesel'),\n",
       "  Text(0.9515451367432781, -0.5518712284040694, 'Petrol')],\n",
       " [Text(-0.09459060877009226, 0.5924969339435465, '0.6%'),\n",
       "  Text(-0.5245582900582105, 0.29127066507152116, '28.2%'),\n",
       "  Text(0.519024620041788, -0.3010206700385833, '71.2%')])"
      ]
     },
     "execution_count": 38,
     "metadata": {},
     "output_type": "execute_result"
    },
    {
     "data": {
      "image/png": "[encoded data removed]",
      "text/plain": [
       "<Figure size 432x288 with 1 Axes>"
      ]
     },
     "metadata": {},
     "output_type": "display_data"
    }
   ],
   "source": [
    "# Get number of cars in stock for each fuel type\n",
    "fuel_count = vehicle_df['Fuel Type'].value_counts()\n",
    "\n",
    "# Group alternative fuels (to avoid overlapping in pie chart as value are too small)\n",
    "fuel_types = list(fuel_count.index)\n",
    "fuel_type_count = []\n",
    "\n",
    "for fuel_type in fuel_types:\n",
    "    fuel_type_count.append(fuel_count[fuel_type])\n",
    "\n",
    "fuel_type_dict_count = {'Fuel Type': fuel_types, 'Count': fuel_type_count}\n",
    "fuel_type_dict_count\n",
    "\n",
    "fuel_type_df = pd.DataFrame(fuel_type_dict_count)\n",
    "\n",
    "fuel_type_df['Fuel Type'] = fuel_type_df['Fuel Type'].replace(['Hybrid', 'Petrol & LPG', 'Electric', 'Plug-in hybrid'], 'Alternative')\n",
    "fuel_type_df = fuel_type_df.groupby('Fuel Type').sum()\n",
    "\n",
    "# Fuel type pie chart\n",
    "fuel_type_count = fuel_type_df['Count']\n",
    "plt.pie(fuel_type_count, labels=fuel_type_count.index, autopct='%1.1f%%', startangle=98)"
   ]
  },
  {
   "cell_type": "code",
   "execution_count": 39,
   "id": "10bca2dc",
   "metadata": {},
   "outputs": [
    {
     "data": {
      "text/plain": [
       "<AxesSubplot:title={'center':'Fuel Type by Avg. Price (£)'}, xlabel='Fuel Type'>"
      ]
     },
     "execution_count": 39,
     "metadata": {},
     "output_type": "execute_result"
    },
    {
     "data": {
      "image/png": "[encoded data removed]",
      "text/plain": [
       "<Figure size 432x288 with 1 Axes>"
      ]
     },
     "metadata": {
      "needs_background": "light"
     },
     "output_type": "display_data"
    }
   ],
   "source": [
    "# Average price by fuel type\n",
    "fuel_type_average = vehicle_df.groupby('Fuel Type')['Price (£)'].mean().sort_values(ascending=False)\n",
    "fuel_type_average = round(fuel_type_average, 2)\n",
    "fuel_type_average.index\n",
    "colours = {'Hybrid': 'darkcyan', 'Diesel':'black', 'Petrol':'grey', 'Petrol & LPG':'forestgreen', 'Electric':'deepskyblue', 'Plug-in hybrid': 'cornflowerblue'}\n",
    "fuel_type_average.plot.bar(x=\"Fuel Type\", y=\"Price\", color=[colours[key] for key in fuel_type_average.index], title=\"Fuel Type by Avg. Price (£)\")"
   ]
  },
  {
   "cell_type": "code",
   "execution_count": null,
   "id": "4642a0a8",
   "metadata": {},
   "outputs": [],
   "source": []
  }
 ],
 "metadata": {
  "kernelspec": {
   "display_name": "Python 3 (ipykernel)",
   "language": "python",
   "name": "python3"
  },
  "language_info": {
   "codemirror_mode": {
    "name": "ipython",
    "version": 3
   },
   "file_extension": ".py",
   "mimetype": "text/x-python",
   "name": "python",
   "nbconvert_exporter": "python",
   "pygments_lexer": "ipython3",
   "version": "3.9.12"
  }
 },
 "nbformat": 4,
 "nbformat_minor": 5
}
