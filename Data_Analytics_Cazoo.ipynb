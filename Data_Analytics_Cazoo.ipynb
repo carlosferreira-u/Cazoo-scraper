{
 "cells": [
  {
   "cell_type": "code",
   "execution_count": null,
   "id": "9d63f3da",
   "metadata": {},
   "outputs": [],
   "source": [
    "!pip3 install selenium\n",
    "!pip3 install webdriver-manager"
   ]
  },
  {
   "cell_type": "code",
   "execution_count": null,
   "id": "e72633a5",
   "metadata": {},
   "outputs": [],
   "source": [
    "# Import libraries\n",
    "import calendar\n",
    "import time\n",
    "import requests\n",
    "import pandas as pd\n",
    "from bs4 import BeautifulSoup\n",
    "from selenium import webdriver\n",
    "from selenium.webdriver.common.by import By"
   ]
  },
  {
   "cell_type": "code",
   "execution_count": null,
   "id": "deaeb8da",
   "metadata": {},
   "outputs": [],
   "source": [
    "# Define cazoo url\n",
    "base_url = \"https://www.cazoo.co.uk\""
   ]
  },
  {
   "cell_type": "code",
   "execution_count": null,
   "id": "d97f28df",
   "metadata": {},
   "outputs": [],
   "source": [
    "# Create Pandas Dataframe\n",
    "vehicle_df = pd.DataFrame(columns=['Make', 'Model', 'Price (£)', 'Milage', 'Registration Year', 'Registration Month', 'Gearbox', 'Fuel Type', 'N of Owners'])"
   ]
  },
  {
   "cell_type": "code",
   "execution_count": null,
   "id": "aad73c31",
   "metadata": {},
   "outputs": [],
   "source": [
    "# Get response code\n",
    "response = requests.get(base_url)\n",
    "print(response.status_code)"
   ]
  },
  {
   "cell_type": "code",
   "execution_count": null,
   "id": "65aa3284",
   "metadata": {},
   "outputs": [],
   "source": [
    "# Create page counter\n",
    "page_no = 1"
   ]
  },
  {
   "cell_type": "code",
   "execution_count": null,
   "id": "a3eacd63",
   "metadata": {},
   "outputs": [],
   "source": [
    "# Loop for pages\n",
    "for page in range(10):\n",
    "\n",
    "    # Define url\n",
    "    listings_url = f\"https://www.cazoo.co.uk/cars/?page={page_no}\"\n",
    "\n",
    "    # Get page url and parse it\n",
    "    response = requests.get(listings_url)\n",
    "    soup = BeautifulSoup(response.text, features=\"html.parser\")\n",
    "    listings = soup.find_all(class_='vehicle-cardstyles__InfoWrap-sc-1bxv5iu-2 laxUtI')\n",
    "\n",
    "    # Listing counter\n",
    "    listing_count = 1\n",
    "\n",
    "    # Print status\n",
    "    print(f\"Scraping from page {page_no}...\")\n",
    "\n",
    "    # Get a tags (urls) for each listing\n",
    "    for listing in listings:\n",
    "\n",
    "        # Print listing number\n",
    "        print(f\"listing {listing_count}...\")\n",
    "\n",
    "        # Find 'a' tags\n",
    "        a_tags = listing.find_all('a')\n",
    "\n",
    "        # In each url scrape the data\n",
    "        for car_url in a_tags:\n",
    "\n",
    "            # Parse html\n",
    "            response = requests.get(base_url + car_url['href'])\n",
    "            soup = BeautifulSoup(response.content, features='html.parser')\n",
    "\n",
    "            # Get make and model\n",
    "            try:\n",
    "                make_model = soup.find('h1', class_='sc-yrk414-0 Abyeg').text.strip()\n",
    "                make, model = make_model.split(' ', 1)\n",
    "            except:\n",
    "                make, model = \"n/a\"\n",
    "\n",
    "            # Get price\n",
    "            try:\n",
    "                driver = webdriver.Chrome()\n",
    "                driver.get(base_url + car_url['href'])\n",
    "                time.sleep(1)\n",
    "                price = driver.find_element(By.CSS_SELECTOR, \"div.md\\:px-l:nth-child(3) > p:nth-child(1) > small:nth-child(1) > small:nth-child(2) > strong:nth-child(1)\").text\n",
    "                price = int(price[1:].replace(',', ''))\n",
    "            except:\n",
    "                price = \"n/a\"\n",
    "\n",
    "            # Get mileage\n",
    "            try:\n",
    "                mileage = int(soup.find_all('li', class_=\"sc-1qzxxja-0 sc-17oqk9n-0 cMysQa etVBLA\")[0].text.strip().replace(' miles','').replace(',',''))\n",
    "            except:\n",
    "                mileage = \"n/a\"\n",
    "\n",
    "            # Get registration year\n",
    "            try:\n",
    "                reg_year = soup.find_all('li', class_=\"sc-1qzxxja-0 sc-17oqk9n-0 cMysQa etVBLA\")[1].text.strip()\n",
    "                reg_year = int(reg_year[-4:])\n",
    "            except:\n",
    "                reg_year = \"n/a\"\n",
    "\n",
    "            # Get registration month\n",
    "            try:\n",
    "                reg_month = soup.find_all('li', class_=\"sc-1qzxxja-0 sc-17oqk9n-0 cMysQa etVBLA\")[1].text.strip()\n",
    "                reg_month = reg_month[:3]\n",
    "                reg_month = int(list(calendar.month_abbr).index(reg_month))\n",
    "            except:\n",
    "                reg_month = \"n/a\"\n",
    "\n",
    "            # Get gearbox\n",
    "            try:\n",
    "                gearbox = soup.find_all('li', class_=\"sc-1qzxxja-0 sc-17oqk9n-0 cMysQa etVBLA\")[2].text.strip()\n",
    "            except:\n",
    "                gearbox = \"n/a\"\n",
    "\n",
    "            # Get fuel type\n",
    "            try:\n",
    "                fuel_type = soup.find_all('li', class_=\"sc-1qzxxja-0 sc-17oqk9n-0 cMysQa etVBLA\")[3].text.strip()\n",
    "            except:\n",
    "                fuel_type = \"n/a\"\n",
    "\n",
    "            # Get number of owners\n",
    "            try:\n",
    "                number_of_owners = soup.select(\"dl.divide-y:nth-child(2) > div:nth-child(3) > dd:nth-child(2)\")[0]\n",
    "                number_of_owners = int(number_of_owners.text)\n",
    "            except:\n",
    "                number_of_owners = \"n/a\"\n",
    "\n",
    "            # Create row\n",
    "            row = pd.Series({'Make': make,\n",
    "                             'Model': model,\n",
    "                             'Price (£)': price,\n",
    "                             'Milage': mileage,\n",
    "                             'Registration Year': reg_year,\n",
    "                             'Registration Month': reg_month,\n",
    "                             'Gearbox': gearbox,\n",
    "                             'Fuel Type': fuel_type,\n",
    "                             'N of Owners': number_of_owners\n",
    "                            })\n",
    "\n",
    "            # Add row to pandas data frame\n",
    "            vehicle_df.loc[len(vehicle_df)] = row\n",
    "\n",
    "        listing_count += 1\n",
    "        if listing_count > 47:\n",
    "            break\n",
    "\n",
    "    # Go to next page\n",
    "    page_no += 1"
   ]
  },
  {
   "cell_type": "code",
   "execution_count": null,
   "id": "88a0c1bc",
   "metadata": {},
   "outputs": [],
   "source": [
    "vehicle_df.to_csv(\"cazoo_used_cars_dataset.csv\")"
   ]
  },
  {
   "cell_type": "code",
   "execution_count": null,
   "id": "71e45798",
   "metadata": {},
   "outputs": [],
   "source": []
  }
 ],
 "metadata": {
  "kernelspec": {
   "display_name": "Python 3 (ipykernel)",
   "language": "python",
   "name": "python3"
  },
  "language_info": {
   "codemirror_mode": {
    "name": "ipython",
    "version": 3
   },
   "file_extension": ".py",
   "mimetype": "text/x-python",
   "name": "python",
   "nbconvert_exporter": "python",
   "pygments_lexer": "ipython3",
   "version": "3.9.12"
  }
 },
 "nbformat": 4,
 "nbformat_minor": 5
}
